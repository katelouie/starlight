{
 "cells": [
  {
   "cell_type": "code",
   "execution_count": null,
   "metadata": {},
   "outputs": [],
   "source": "import datetime\n\nimport pytz\nimport timezonefinder\nfrom geopy.geocoders import Nominatim\nfrom rich.console import Console\n\nfrom starlight.chart import Chart\nfrom starlight.presentation import (\n    create_table_dignities,\n    create_table_midpoints,\n    print_chart_summary,\n)"
  },
  {
   "cell_type": "code",
   "execution_count": 2,
   "metadata": {},
   "outputs": [],
   "source": [
    "people = {\n",
    "    \"Me\": {\n",
    "        \"birthdate\": {\"year\": 1994, \"month\": 1, \"day\": 6, \"hour\": 11, \"minute\": 47},\n",
    "        \"city_name\": \"San Francisco, CA\"\n",
    "    },\n",
    "    \"Ada Lovelace\": {\n",
    "        \"birthdate\": {\"year\": 1815, \"month\": 12, \"day\": 10, \"hour\": 5, \"minute\": 8},\n",
    "        \"city_name\": \"London, UK\"\n",
    "    },\n",
    "    \"Micah\": {\n",
    "        \"birthdate\": {\"year\": 1996, \"month\": 3, \"day\": 7, \"hour\": 12, \"minute\": 0},\n",
    "        \"city_name\": \"Seattle, WA\"\n",
    "    },\n",
    "}"
   ]
  },
  {
   "cell_type": "markdown",
   "metadata": {},
   "source": [
    "# Basic Chart Breakdown"
   ]
  },
  {
   "cell_type": "code",
   "execution_count": 10,
   "metadata": {},
   "outputs": [
    {
     "name": "stdout",
     "output_type": "stream",
     "text": [
      "\u001b[34mInstalling dependencies from lock file\u001b[39m\n",
      "\n",
      "No dependencies to install or update\n",
      "\n",
      "\u001b[39;1mInstalling\u001b[39;22m the current project: \u001b[36mstarlight\u001b[39m (\u001b[39;1m0.1.0\u001b[39;22m)\u001b[1G\u001b[2K\u001b[39;1mInstalling\u001b[39;22m the current project: \u001b[36mstarlight\u001b[39m (\u001b[32m0.1.0\u001b[39m)\n"
     ]
    }
   ],
   "source": [
    "!poetry install"
   ]
  },
  {
   "cell_type": "code",
   "execution_count": 3,
   "metadata": {},
   "outputs": [
    {
     "name": "stdout",
     "output_type": "stream",
     "text": [
      "San Francisco, California, United States (37.7792588, -122.4193286)\n",
      "Date: January 6, 1994 at 19:47 Universal Time (Local: 1994-01-06 11:47:00-08:00)\n"
     ]
    },
    {
     "data": {
      "text/html": [
       "<pre style=\"white-space:pre;overflow-x:auto;line-height:normal;font-family:Menlo,'DejaVu Sans Mono',consolas,'Courier New',monospace\">\n",
       "</pre>\n"
      ],
      "text/plain": [
       "\n"
      ]
     },
     "metadata": {},
     "output_type": "display_data"
    },
    {
     "data": {
      "text/html": [
       "<pre style=\"white-space:pre;overflow-x:auto;line-height:normal;font-family:Menlo,'DejaVu Sans Mono',consolas,'Courier New',monospace\">Planet Placements:\n",
       "Sun ☉ is in Capricorn at <span style=\"color: #008080; text-decoration-color: #008080; font-weight: bold\">16</span>°<span style=\"color: #008080; text-decoration-color: #008080; font-weight: bold\">16</span>'<span style=\"color: #008080; text-decoration-color: #008080; font-weight: bold\">24</span>\" in House <span style=\"color: #008080; text-decoration-color: #008080; font-weight: bold\">10</span>.\n",
       "Moon ☽ is in Scorpio at <span style=\"color: #008080; text-decoration-color: #008080; font-weight: bold\">10</span>°<span style=\"color: #008080; text-decoration-color: #008080; font-weight: bold\">11</span>'<span style=\"color: #008080; text-decoration-color: #008080; font-weight: bold\">53</span>\" in House <span style=\"color: #008080; text-decoration-color: #008080; font-weight: bold\">8</span>.\n",
       "Mercury ☿ is in Capricorn at <span style=\"color: #008080; text-decoration-color: #008080; font-weight: bold\">18</span>°<span style=\"color: #008080; text-decoration-color: #008080; font-weight: bold\">4</span>'<span style=\"color: #008080; text-decoration-color: #008080; font-weight: bold\">29</span>\" in House <span style=\"color: #008080; text-decoration-color: #008080; font-weight: bold\">10</span>.\n",
       "Venus ♂ is in Capricorn at <span style=\"color: #008080; text-decoration-color: #008080; font-weight: bold\">14</span>°<span style=\"color: #008080; text-decoration-color: #008080; font-weight: bold\">49</span>'<span style=\"color: #008080; text-decoration-color: #008080; font-weight: bold\">19</span>\" in House <span style=\"color: #008080; text-decoration-color: #008080; font-weight: bold\">10</span>.\n",
       "Mars ♀ is in Capricorn at <span style=\"color: #008080; text-decoration-color: #008080; font-weight: bold\">14</span>°<span style=\"color: #008080; text-decoration-color: #008080; font-weight: bold\">31</span>'<span style=\"color: #008080; text-decoration-color: #008080; font-weight: bold\">7</span>\" in House <span style=\"color: #008080; text-decoration-color: #008080; font-weight: bold\">10</span>.\n",
       "Jupiter ♃ is in Scorpio at <span style=\"color: #008080; text-decoration-color: #008080; font-weight: bold\">11</span>°<span style=\"color: #008080; text-decoration-color: #008080; font-weight: bold\">37</span>'<span style=\"color: #008080; text-decoration-color: #008080; font-weight: bold\">20</span>\" in House <span style=\"color: #008080; text-decoration-color: #008080; font-weight: bold\">8</span>.\n",
       "Saturn ♄ is in Aquarius at <span style=\"color: #008080; text-decoration-color: #008080; font-weight: bold\">28</span>°<span style=\"color: #008080; text-decoration-color: #008080; font-weight: bold\">34</span>'<span style=\"color: #008080; text-decoration-color: #008080; font-weight: bold\">26</span>\" in House <span style=\"color: #008080; text-decoration-color: #008080; font-weight: bold\">11</span>.\n",
       "Uranus ♅ is in Capricorn at <span style=\"color: #008080; text-decoration-color: #008080; font-weight: bold\">22</span>°<span style=\"color: #008080; text-decoration-color: #008080; font-weight: bold\">55</span>'<span style=\"color: #008080; text-decoration-color: #008080; font-weight: bold\">18</span>\" in House <span style=\"color: #008080; text-decoration-color: #008080; font-weight: bold\">10</span>.\n",
       "Neptune ♆ is in Capricorn at <span style=\"color: #008080; text-decoration-color: #008080; font-weight: bold\">21</span>°<span style=\"color: #008080; text-decoration-color: #008080; font-weight: bold\">41</span>'<span style=\"color: #008080; text-decoration-color: #008080; font-weight: bold\">47</span>\" in House <span style=\"color: #008080; text-decoration-color: #008080; font-weight: bold\">10</span>.\n",
       "Pluto ♇ is in Scorpio at <span style=\"color: #008080; text-decoration-color: #008080; font-weight: bold\">27</span>°<span style=\"color: #008080; text-decoration-color: #008080; font-weight: bold\">15</span>'<span style=\"color: #008080; text-decoration-color: #008080; font-weight: bold\">3</span>\" in House <span style=\"color: #008080; text-decoration-color: #008080; font-weight: bold\">8</span>.\n",
       "North Node ☊ is in Sagittarius at <span style=\"color: #008080; text-decoration-color: #008080; font-weight: bold\">2</span>°<span style=\"color: #008080; text-decoration-color: #008080; font-weight: bold\">14</span>'<span style=\"color: #008080; text-decoration-color: #008080; font-weight: bold\">11</span>\" in House <span style=\"color: #008080; text-decoration-color: #008080; font-weight: bold\">9</span>.\n",
       "South Node ☋ is in Gemini at <span style=\"color: #008080; text-decoration-color: #008080; font-weight: bold\">2</span>°<span style=\"color: #008080; text-decoration-color: #008080; font-weight: bold\">14</span>'<span style=\"color: #008080; text-decoration-color: #008080; font-weight: bold\">11</span>\" in House <span style=\"color: #008080; text-decoration-color: #008080; font-weight: bold\">3</span>.\n",
       "BM Lilith ⚸ is in Taurus at <span style=\"color: #008080; text-decoration-color: #008080; font-weight: bold\">1</span>°<span style=\"color: #008080; text-decoration-color: #008080; font-weight: bold\">60</span>'<span style=\"color: #008080; text-decoration-color: #008080; font-weight: bold\">39</span>\" in House <span style=\"color: #008080; text-decoration-color: #008080; font-weight: bold\">2</span>.\n",
       "Chiron ⚷ is in Virgo at <span style=\"color: #008080; text-decoration-color: #008080; font-weight: bold\">9</span>°<span style=\"color: #008080; text-decoration-color: #008080; font-weight: bold\">6</span>'<span style=\"color: #008080; text-decoration-color: #008080; font-weight: bold\">56</span>\" <span style=\"font-weight: bold\">(</span>Retrograde<span style=\"font-weight: bold\">)</span> in House <span style=\"color: #008080; text-decoration-color: #008080; font-weight: bold\">6</span>.\n",
       "Pholus 𝛷 is in Virgo at <span style=\"color: #008080; text-decoration-color: #008080; font-weight: bold\">4</span>°<span style=\"color: #008080; text-decoration-color: #008080; font-weight: bold\">25</span>'<span style=\"color: #008080; text-decoration-color: #008080; font-weight: bold\">18</span>\" <span style=\"font-weight: bold\">(</span>Retrograde<span style=\"font-weight: bold\">)</span> in House <span style=\"color: #008080; text-decoration-color: #008080; font-weight: bold\">6</span>.\n",
       "Ceres ⚳ is in Aries at <span style=\"color: #008080; text-decoration-color: #008080; font-weight: bold\">24</span>°<span style=\"color: #008080; text-decoration-color: #008080; font-weight: bold\">24</span>'<span style=\"color: #008080; text-decoration-color: #008080; font-weight: bold\">26</span>\" in House <span style=\"color: #008080; text-decoration-color: #008080; font-weight: bold\">1</span>.\n",
       "Pallas ⚴ is in Pisces at <span style=\"color: #008080; text-decoration-color: #008080; font-weight: bold\">5</span>°<span style=\"color: #008080; text-decoration-color: #008080; font-weight: bold\">26</span>'<span style=\"color: #008080; text-decoration-color: #008080; font-weight: bold\">28</span>\" in House <span style=\"color: #008080; text-decoration-color: #008080; font-weight: bold\">12</span>.\n",
       "Juno ⚵ is in Libra at <span style=\"color: #008080; text-decoration-color: #008080; font-weight: bold\">28</span>°<span style=\"color: #008080; text-decoration-color: #008080; font-weight: bold\">55</span>'<span style=\"color: #008080; text-decoration-color: #008080; font-weight: bold\">50</span>\" in House <span style=\"color: #008080; text-decoration-color: #008080; font-weight: bold\">7</span>.\n",
       "Vesta ⚶ is in Pisces at <span style=\"color: #008080; text-decoration-color: #008080; font-weight: bold\">19</span>°<span style=\"color: #008080; text-decoration-color: #008080; font-weight: bold\">5</span>'<span style=\"color: #008080; text-decoration-color: #008080; font-weight: bold\">49</span>\" in House <span style=\"color: #008080; text-decoration-color: #008080; font-weight: bold\">12</span>.\n",
       "\n",
       "</pre>\n"
      ],
      "text/plain": [
       "Planet Placements:\n",
       "Sun ☉ is in Capricorn at \u001b[1;36m16\u001b[0m°\u001b[1;36m16\u001b[0m'\u001b[1;36m24\u001b[0m\" in House \u001b[1;36m10\u001b[0m.\n",
       "Moon ☽ is in Scorpio at \u001b[1;36m10\u001b[0m°\u001b[1;36m11\u001b[0m'\u001b[1;36m53\u001b[0m\" in House \u001b[1;36m8\u001b[0m.\n",
       "Mercury ☿ is in Capricorn at \u001b[1;36m18\u001b[0m°\u001b[1;36m4\u001b[0m'\u001b[1;36m29\u001b[0m\" in House \u001b[1;36m10\u001b[0m.\n",
       "Venus ♂ is in Capricorn at \u001b[1;36m14\u001b[0m°\u001b[1;36m49\u001b[0m'\u001b[1;36m19\u001b[0m\" in House \u001b[1;36m10\u001b[0m.\n",
       "Mars ♀ is in Capricorn at \u001b[1;36m14\u001b[0m°\u001b[1;36m31\u001b[0m'\u001b[1;36m7\u001b[0m\" in House \u001b[1;36m10\u001b[0m.\n",
       "Jupiter ♃ is in Scorpio at \u001b[1;36m11\u001b[0m°\u001b[1;36m37\u001b[0m'\u001b[1;36m20\u001b[0m\" in House \u001b[1;36m8\u001b[0m.\n",
       "Saturn ♄ is in Aquarius at \u001b[1;36m28\u001b[0m°\u001b[1;36m34\u001b[0m'\u001b[1;36m26\u001b[0m\" in House \u001b[1;36m11\u001b[0m.\n",
       "Uranus ♅ is in Capricorn at \u001b[1;36m22\u001b[0m°\u001b[1;36m55\u001b[0m'\u001b[1;36m18\u001b[0m\" in House \u001b[1;36m10\u001b[0m.\n",
       "Neptune ♆ is in Capricorn at \u001b[1;36m21\u001b[0m°\u001b[1;36m41\u001b[0m'\u001b[1;36m47\u001b[0m\" in House \u001b[1;36m10\u001b[0m.\n",
       "Pluto ♇ is in Scorpio at \u001b[1;36m27\u001b[0m°\u001b[1;36m15\u001b[0m'\u001b[1;36m3\u001b[0m\" in House \u001b[1;36m8\u001b[0m.\n",
       "North Node ☊ is in Sagittarius at \u001b[1;36m2\u001b[0m°\u001b[1;36m14\u001b[0m'\u001b[1;36m11\u001b[0m\" in House \u001b[1;36m9\u001b[0m.\n",
       "South Node ☋ is in Gemini at \u001b[1;36m2\u001b[0m°\u001b[1;36m14\u001b[0m'\u001b[1;36m11\u001b[0m\" in House \u001b[1;36m3\u001b[0m.\n",
       "BM Lilith ⚸ is in Taurus at \u001b[1;36m1\u001b[0m°\u001b[1;36m60\u001b[0m'\u001b[1;36m39\u001b[0m\" in House \u001b[1;36m2\u001b[0m.\n",
       "Chiron ⚷ is in Virgo at \u001b[1;36m9\u001b[0m°\u001b[1;36m6\u001b[0m'\u001b[1;36m56\u001b[0m\" \u001b[1m(\u001b[0mRetrograde\u001b[1m)\u001b[0m in House \u001b[1;36m6\u001b[0m.\n",
       "Pholus 𝛷 is in Virgo at \u001b[1;36m4\u001b[0m°\u001b[1;36m25\u001b[0m'\u001b[1;36m18\u001b[0m\" \u001b[1m(\u001b[0mRetrograde\u001b[1m)\u001b[0m in House \u001b[1;36m6\u001b[0m.\n",
       "Ceres ⚳ is in Aries at \u001b[1;36m24\u001b[0m°\u001b[1;36m24\u001b[0m'\u001b[1;36m26\u001b[0m\" in House \u001b[1;36m1\u001b[0m.\n",
       "Pallas ⚴ is in Pisces at \u001b[1;36m5\u001b[0m°\u001b[1;36m26\u001b[0m'\u001b[1;36m28\u001b[0m\" in House \u001b[1;36m12\u001b[0m.\n",
       "Juno ⚵ is in Libra at \u001b[1;36m28\u001b[0m°\u001b[1;36m55\u001b[0m'\u001b[1;36m50\u001b[0m\" in House \u001b[1;36m7\u001b[0m.\n",
       "Vesta ⚶ is in Pisces at \u001b[1;36m19\u001b[0m°\u001b[1;36m5\u001b[0m'\u001b[1;36m49\u001b[0m\" in House \u001b[1;36m12\u001b[0m.\n",
       "\n"
      ]
     },
     "metadata": {},
     "output_type": "display_data"
    },
    {
     "data": {
      "text/html": [
       "<pre style=\"white-space:pre;overflow-x:auto;line-height:normal;font-family:Menlo,'DejaVu Sans Mono',consolas,'Courier New',monospace\">House Cusps\n",
       "House <span style=\"color: #008080; text-decoration-color: #008080; font-weight: bold\">1</span> is ruled by Aries.\n",
       "House <span style=\"color: #008080; text-decoration-color: #008080; font-weight: bold\">2</span> is ruled by Taurus.\n",
       "House <span style=\"color: #008080; text-decoration-color: #008080; font-weight: bold\">3</span> is ruled by Gemini.\n",
       "House <span style=\"color: #008080; text-decoration-color: #008080; font-weight: bold\">4</span> is ruled by Cancer.\n",
       "House <span style=\"color: #008080; text-decoration-color: #008080; font-weight: bold\">5</span> is ruled by Leo.\n",
       "House <span style=\"color: #008080; text-decoration-color: #008080; font-weight: bold\">6</span> is ruled by Virgo.\n",
       "House <span style=\"color: #008080; text-decoration-color: #008080; font-weight: bold\">7</span> is ruled by Libra.\n",
       "House <span style=\"color: #008080; text-decoration-color: #008080; font-weight: bold\">8</span> is ruled by Scorpio.\n",
       "House <span style=\"color: #008080; text-decoration-color: #008080; font-weight: bold\">9</span> is ruled by Sagittarius.\n",
       "House <span style=\"color: #008080; text-decoration-color: #008080; font-weight: bold\">10</span> is ruled by Capricorn.\n",
       "House <span style=\"color: #008080; text-decoration-color: #008080; font-weight: bold\">11</span> is ruled by Aquarius.\n",
       "House <span style=\"color: #008080; text-decoration-color: #008080; font-weight: bold\">12</span> is ruled by Pisces.\n",
       "\n",
       "</pre>\n"
      ],
      "text/plain": [
       "House Cusps\n",
       "House \u001b[1;36m1\u001b[0m is ruled by Aries.\n",
       "House \u001b[1;36m2\u001b[0m is ruled by Taurus.\n",
       "House \u001b[1;36m3\u001b[0m is ruled by Gemini.\n",
       "House \u001b[1;36m4\u001b[0m is ruled by Cancer.\n",
       "House \u001b[1;36m5\u001b[0m is ruled by Leo.\n",
       "House \u001b[1;36m6\u001b[0m is ruled by Virgo.\n",
       "House \u001b[1;36m7\u001b[0m is ruled by Libra.\n",
       "House \u001b[1;36m8\u001b[0m is ruled by Scorpio.\n",
       "House \u001b[1;36m9\u001b[0m is ruled by Sagittarius.\n",
       "House \u001b[1;36m10\u001b[0m is ruled by Capricorn.\n",
       "House \u001b[1;36m11\u001b[0m is ruled by Aquarius.\n",
       "House \u001b[1;36m12\u001b[0m is ruled by Pisces.\n",
       "\n"
      ]
     },
     "metadata": {},
     "output_type": "display_data"
    },
    {
     "data": {
      "text/html": [
       "<pre style=\"white-space:pre;overflow-x:auto;line-height:normal;font-family:Menlo,'DejaVu Sans Mono',consolas,'Courier New',monospace\">Chart Angles:\n",
       "Asc is at <span style=\"color: #008080; text-decoration-color: #008080; font-weight: bold\">17</span>°<span style=\"color: #008080; text-decoration-color: #008080; font-weight: bold\">3</span>'<span style=\"color: #008080; text-decoration-color: #008080; font-weight: bold\">40</span>\" Aries.\n",
       "Desc is at <span style=\"color: #008080; text-decoration-color: #008080; font-weight: bold\">17</span>°<span style=\"color: #008080; text-decoration-color: #008080; font-weight: bold\">3</span>'<span style=\"color: #008080; text-decoration-color: #008080; font-weight: bold\">40</span>\" Libra.\n",
       "MC is at <span style=\"color: #008080; text-decoration-color: #008080; font-weight: bold\">10</span>°<span style=\"color: #008080; text-decoration-color: #008080; font-weight: bold\">38</span>'<span style=\"color: #008080; text-decoration-color: #008080; font-weight: bold\">28</span>\" Capricorn.\n",
       "IC is at <span style=\"color: #008080; text-decoration-color: #008080; font-weight: bold\">10</span>°<span style=\"color: #008080; text-decoration-color: #008080; font-weight: bold\">38</span>'<span style=\"color: #008080; text-decoration-color: #008080; font-weight: bold\">28</span>\" Cancer.\n",
       "Vertex is at <span style=\"color: #008080; text-decoration-color: #008080; font-weight: bold\">7</span>°<span style=\"color: #008080; text-decoration-color: #008080; font-weight: bold\">20</span>'<span style=\"color: #008080; text-decoration-color: #008080; font-weight: bold\">48</span>\" Libra.\n",
       "\n",
       "</pre>\n"
      ],
      "text/plain": [
       "Chart Angles:\n",
       "Asc is at \u001b[1;36m17\u001b[0m°\u001b[1;36m3\u001b[0m'\u001b[1;36m40\u001b[0m\" Aries.\n",
       "Desc is at \u001b[1;36m17\u001b[0m°\u001b[1;36m3\u001b[0m'\u001b[1;36m40\u001b[0m\" Libra.\n",
       "MC is at \u001b[1;36m10\u001b[0m°\u001b[1;36m38\u001b[0m'\u001b[1;36m28\u001b[0m\" Capricorn.\n",
       "IC is at \u001b[1;36m10\u001b[0m°\u001b[1;36m38\u001b[0m'\u001b[1;36m28\u001b[0m\" Cancer.\n",
       "Vertex is at \u001b[1;36m7\u001b[0m°\u001b[1;36m20\u001b[0m'\u001b[1;36m48\u001b[0m\" Libra.\n",
       "\n"
      ]
     },
     "metadata": {},
     "output_type": "display_data"
    },
    {
     "data": {
      "text/html": [
       "<pre style=\"white-space:pre;overflow-x:auto;line-height:normal;font-family:Menlo,'DejaVu Sans Mono',consolas,'Courier New',monospace\">Planet Aspects:\n",
       "Sun ☉ is Sextile Moon ☽ <span style=\"font-weight: bold\">(</span><span style=\"color: #008080; text-decoration-color: #008080; font-weight: bold\">6</span>° orb Applying<span style=\"font-weight: bold\">)</span>.\n",
       "Sun ☉ is Conjunct Mercury ☿ <span style=\"font-weight: bold\">(</span><span style=\"color: #008080; text-decoration-color: #008080; font-weight: bold\">2</span>° orb Separating<span style=\"font-weight: bold\">)</span>.\n",
       "Sun ☉ is Conjunct Venus ♂ <span style=\"font-weight: bold\">(</span><span style=\"color: #008080; text-decoration-color: #008080; font-weight: bold\">2</span>° orb Applying<span style=\"font-weight: bold\">)</span>.\n",
       "Sun ☉ is Conjunct Mars ♀ <span style=\"font-weight: bold\">(</span><span style=\"color: #008080; text-decoration-color: #008080; font-weight: bold\">3</span>° orb Separating<span style=\"font-weight: bold\">)</span>.\n",
       "Sun ☉ is Sextile Jupiter ♃ <span style=\"font-weight: bold\">(</span><span style=\"color: #008080; text-decoration-color: #008080; font-weight: bold\">6</span>° orb Separating<span style=\"font-weight: bold\">)</span>.\n",
       "Sun ☉ is Conjunct Uranus ♅ <span style=\"font-weight: bold\">(</span><span style=\"color: #008080; text-decoration-color: #008080; font-weight: bold\">6</span>° orb Applying<span style=\"font-weight: bold\">)</span>.\n",
       "Sun ☉ is Conjunct Neptune ♆ <span style=\"font-weight: bold\">(</span><span style=\"color: #008080; text-decoration-color: #008080; font-weight: bold\">4</span>° orb Applying<span style=\"font-weight: bold\">)</span>.\n",
       "Sun ☉ is Square Asc <span style=\"font-weight: bold\">(</span><span style=\"color: #008080; text-decoration-color: #008080; font-weight: bold\">1</span>° orb <span style=\"color: #800080; text-decoration-color: #800080; font-style: italic\">None</span><span style=\"font-weight: bold\">)</span>.\n",
       "Sun ☉ is Conjunct MC <span style=\"font-weight: bold\">(</span><span style=\"color: #008080; text-decoration-color: #008080; font-weight: bold\">7</span>° orb <span style=\"color: #800080; text-decoration-color: #800080; font-style: italic\">None</span><span style=\"font-weight: bold\">)</span>.\n",
       "\n",
       "Moon ☽ is Sextile Mercury ☿ <span style=\"font-weight: bold\">(</span><span style=\"color: #008080; text-decoration-color: #008080; font-weight: bold\">8</span>° orb Applying<span style=\"font-weight: bold\">)</span>.\n",
       "Moon ☽ is Sextile Venus ♂ <span style=\"font-weight: bold\">(</span><span style=\"color: #008080; text-decoration-color: #008080; font-weight: bold\">4</span>° orb Applying<span style=\"font-weight: bold\">)</span>.\n",
       "Moon ☽ is Sextile Mars ♀ <span style=\"font-weight: bold\">(</span><span style=\"color: #008080; text-decoration-color: #008080; font-weight: bold\">3</span>° orb Applying<span style=\"font-weight: bold\">)</span>.\n",
       "Moon ☽ is Conjunct Jupiter ♃ <span style=\"font-weight: bold\">(</span><span style=\"color: #008080; text-decoration-color: #008080; font-weight: bold\">0</span>° orb Applying<span style=\"font-weight: bold\">)</span>.\n",
       "Moon ☽ is Sextile MC <span style=\"font-weight: bold\">(</span><span style=\"color: #008080; text-decoration-color: #008080; font-weight: bold\">1</span>° orb <span style=\"color: #800080; text-decoration-color: #800080; font-style: italic\">None</span><span style=\"font-weight: bold\">)</span>.\n",
       "\n",
       "Mercury ☿ is Conjunct Venus ♂ <span style=\"font-weight: bold\">(</span><span style=\"color: #008080; text-decoration-color: #008080; font-weight: bold\">4</span>° orb Separating<span style=\"font-weight: bold\">)</span>.\n",
       "Mercury ☿ is Conjunct Mars ♀ <span style=\"font-weight: bold\">(</span><span style=\"color: #008080; text-decoration-color: #008080; font-weight: bold\">5</span>° orb Separating<span style=\"font-weight: bold\">)</span>.\n",
       "Mercury ☿ is Sextile Jupiter ♃ <span style=\"font-weight: bold\">(</span><span style=\"color: #008080; text-decoration-color: #008080; font-weight: bold\">7</span>° orb Separating<span style=\"font-weight: bold\">)</span>.\n",
       "Mercury ☿ is Conjunct Uranus ♅ <span style=\"font-weight: bold\">(</span><span style=\"color: #008080; text-decoration-color: #008080; font-weight: bold\">4</span>° orb Applying<span style=\"font-weight: bold\">)</span>.\n",
       "Mercury ☿ is Conjunct Neptune ♆ <span style=\"font-weight: bold\">(</span><span style=\"color: #008080; text-decoration-color: #008080; font-weight: bold\">3</span>° orb Applying<span style=\"font-weight: bold\">)</span>.\n",
       "Mercury ☿ is Square Asc <span style=\"font-weight: bold\">(</span><span style=\"color: #008080; text-decoration-color: #008080; font-weight: bold\">1</span>° orb <span style=\"color: #800080; text-decoration-color: #800080; font-style: italic\">None</span><span style=\"font-weight: bold\">)</span>.\n",
       "\n",
       "Venus ♂ is Conjunct Mars ♀ <span style=\"font-weight: bold\">(</span><span style=\"color: #008080; text-decoration-color: #008080; font-weight: bold\">0</span>° orb Separating<span style=\"font-weight: bold\">)</span>.\n",
       "Venus ♂ is Sextile Jupiter ♃ <span style=\"font-weight: bold\">(</span><span style=\"color: #008080; text-decoration-color: #008080; font-weight: bold\">3</span>° orb Separating<span style=\"font-weight: bold\">)</span>.\n",
       "Venus ♂ is Conjunct Neptune ♆ <span style=\"font-weight: bold\">(</span><span style=\"color: #008080; text-decoration-color: #008080; font-weight: bold\">7</span>° orb Applying<span style=\"font-weight: bold\">)</span>.\n",
       "Venus ♂ is Square Asc <span style=\"font-weight: bold\">(</span><span style=\"color: #008080; text-decoration-color: #008080; font-weight: bold\">3</span>° orb <span style=\"color: #800080; text-decoration-color: #800080; font-style: italic\">None</span><span style=\"font-weight: bold\">)</span>.\n",
       "Venus ♂ is Conjunct MC <span style=\"font-weight: bold\">(</span><span style=\"color: #008080; text-decoration-color: #008080; font-weight: bold\">4</span>° orb <span style=\"color: #800080; text-decoration-color: #800080; font-style: italic\">None</span><span style=\"font-weight: bold\">)</span>.\n",
       "\n",
       "Mars ♀ is Sextile Jupiter ♃ <span style=\"font-weight: bold\">(</span><span style=\"color: #008080; text-decoration-color: #008080; font-weight: bold\">3</span>° orb Separating<span style=\"font-weight: bold\">)</span>.\n",
       "Mars ♀ is Conjunct Neptune ♆ <span style=\"font-weight: bold\">(</span><span style=\"color: #008080; text-decoration-color: #008080; font-weight: bold\">7</span>° orb Applying<span style=\"font-weight: bold\">)</span>.\n",
       "Mars ♀ is Square Asc <span style=\"font-weight: bold\">(</span><span style=\"color: #008080; text-decoration-color: #008080; font-weight: bold\">4</span>° orb <span style=\"color: #800080; text-decoration-color: #800080; font-style: italic\">None</span><span style=\"font-weight: bold\">)</span>.\n",
       "Mars ♀ is Conjunct MC <span style=\"font-weight: bold\">(</span><span style=\"color: #008080; text-decoration-color: #008080; font-weight: bold\">4</span>° orb <span style=\"color: #800080; text-decoration-color: #800080; font-style: italic\">None</span><span style=\"font-weight: bold\">)</span>.\n",
       "\n",
       "Jupiter ♃ is Sextile MC <span style=\"font-weight: bold\">(</span><span style=\"color: #008080; text-decoration-color: #008080; font-weight: bold\">1</span>° orb <span style=\"color: #800080; text-decoration-color: #800080; font-style: italic\">None</span><span style=\"font-weight: bold\">)</span>.\n",
       "\n",
       "Saturn ♄ is Square Pluto ♇ <span style=\"font-weight: bold\">(</span><span style=\"color: #008080; text-decoration-color: #008080; font-weight: bold\">0</span>° orb Separating<span style=\"font-weight: bold\">)</span>.\n",
       "Saturn ♄ is Square North Node ☊ <span style=\"font-weight: bold\">(</span><span style=\"color: #008080; text-decoration-color: #008080; font-weight: bold\">5</span>° orb Separating<span style=\"font-weight: bold\">)</span>.\n",
       "\n",
       "Uranus ♅ is Conjunct Neptune ♆ <span style=\"font-weight: bold\">(</span><span style=\"color: #008080; text-decoration-color: #008080; font-weight: bold\">1</span>° orb Separating<span style=\"font-weight: bold\">)</span>.\n",
       "Uranus ♅ is Sextile Pluto ♇ <span style=\"font-weight: bold\">(</span><span style=\"color: #008080; text-decoration-color: #008080; font-weight: bold\">5</span>° orb Separating<span style=\"font-weight: bold\">)</span>.\n",
       "Uranus ♅ is Square Asc <span style=\"font-weight: bold\">(</span><span style=\"color: #008080; text-decoration-color: #008080; font-weight: bold\">5</span>° orb <span style=\"color: #800080; text-decoration-color: #800080; font-style: italic\">None</span><span style=\"font-weight: bold\">)</span>.\n",
       "\n",
       "Neptune ♆ is Sextile Pluto ♇ <span style=\"font-weight: bold\">(</span><span style=\"color: #008080; text-decoration-color: #008080; font-weight: bold\">7</span>° orb Separating<span style=\"font-weight: bold\">)</span>.\n",
       "Neptune ♆ is Square Asc <span style=\"font-weight: bold\">(</span><span style=\"color: #008080; text-decoration-color: #008080; font-weight: bold\">4</span>° orb <span style=\"color: #800080; text-decoration-color: #800080; font-style: italic\">None</span><span style=\"font-weight: bold\">)</span>.\n",
       "\n",
       "Pluto ♇ is Conjunct North Node ☊ <span style=\"font-weight: bold\">(</span><span style=\"color: #008080; text-decoration-color: #008080; font-weight: bold\">5</span>° orb Applying<span style=\"font-weight: bold\">)</span>.\n",
       "\n",
       "\n",
       "South Node ☋ is Square Saturn ♄ <span style=\"font-weight: bold\">(</span><span style=\"color: #008080; text-decoration-color: #008080; font-weight: bold\">5</span>° orb Separating<span style=\"font-weight: bold\">)</span>.\n",
       "South Node ☋ is Opposition Pluto ♇ <span style=\"font-weight: bold\">(</span><span style=\"color: #008080; text-decoration-color: #008080; font-weight: bold\">5</span>° orb Separating<span style=\"font-weight: bold\">)</span>.\n",
       "South Node ☋ is Opposition North Node ☊ <span style=\"font-weight: bold\">(</span><span style=\"color: #008080; text-decoration-color: #008080; font-weight: bold\">0</span>° orb Separating<span style=\"font-weight: bold\">)</span>.\n",
       "\n",
       "BM Lilith ⚸ is Sextile Saturn ♄ <span style=\"font-weight: bold\">(</span><span style=\"color: #008080; text-decoration-color: #008080; font-weight: bold\">3</span>° orb Applying<span style=\"font-weight: bold\">)</span>.\n",
       "\n",
       "Chiron ⚷ is Trine Sun ☉ <span style=\"font-weight: bold\">(</span><span style=\"color: #008080; text-decoration-color: #008080; font-weight: bold\">7</span>° orb Separating<span style=\"font-weight: bold\">)</span>.\n",
       "Chiron ⚷ is Sextile Moon ☽ <span style=\"font-weight: bold\">(</span><span style=\"color: #008080; text-decoration-color: #008080; font-weight: bold\">1</span>° orb Separating<span style=\"font-weight: bold\">)</span>.\n",
       "Chiron ⚷ is Trine Venus ♂ <span style=\"font-weight: bold\">(</span><span style=\"color: #008080; text-decoration-color: #008080; font-weight: bold\">5</span>° orb Separating<span style=\"font-weight: bold\">)</span>.\n",
       "Chiron ⚷ is Trine Mars ♀ <span style=\"font-weight: bold\">(</span><span style=\"color: #008080; text-decoration-color: #008080; font-weight: bold\">4</span>° orb Separating<span style=\"font-weight: bold\">)</span>.\n",
       "Chiron ⚷ is Sextile Jupiter ♃ <span style=\"font-weight: bold\">(</span><span style=\"color: #008080; text-decoration-color: #008080; font-weight: bold\">2</span>° orb Separating<span style=\"font-weight: bold\">)</span>.\n",
       "Chiron ⚷ is Square North Node ☊ <span style=\"font-weight: bold\">(</span><span style=\"color: #008080; text-decoration-color: #008080; font-weight: bold\">7</span>° orb Separating<span style=\"font-weight: bold\">)</span>.\n",
       "Chiron ⚷ is Trine MC <span style=\"font-weight: bold\">(</span><span style=\"color: #008080; text-decoration-color: #008080; font-weight: bold\">1</span>° orb <span style=\"color: #800080; text-decoration-color: #800080; font-style: italic\">None</span><span style=\"font-weight: bold\">)</span>.\n",
       "\n",
       "Pholus 𝛷 is Sextile Moon ☽ <span style=\"font-weight: bold\">(</span><span style=\"color: #008080; text-decoration-color: #008080; font-weight: bold\">6</span>° orb Separating<span style=\"font-weight: bold\">)</span>.\n",
       "Pholus 𝛷 is Sextile Jupiter ♃ <span style=\"font-weight: bold\">(</span><span style=\"color: #008080; text-decoration-color: #008080; font-weight: bold\">6</span>° orb Separating<span style=\"font-weight: bold\">)</span>.\n",
       "Pholus 𝛷 is Opposition Saturn ♄ <span style=\"font-weight: bold\">(</span><span style=\"color: #008080; text-decoration-color: #008080; font-weight: bold\">7</span>° orb Separating<span style=\"font-weight: bold\">)</span>.\n",
       "Pholus 𝛷 is Square Pluto ♇ <span style=\"font-weight: bold\">(</span><span style=\"color: #008080; text-decoration-color: #008080; font-weight: bold\">7</span>° orb Separating<span style=\"font-weight: bold\">)</span>.\n",
       "Pholus 𝛷 is Square North Node ☊ <span style=\"font-weight: bold\">(</span><span style=\"color: #008080; text-decoration-color: #008080; font-weight: bold\">2</span>° orb Separating<span style=\"font-weight: bold\">)</span>.\n",
       "Pholus 𝛷 is Trine MC <span style=\"font-weight: bold\">(</span><span style=\"color: #008080; text-decoration-color: #008080; font-weight: bold\">5</span>° orb <span style=\"color: #800080; text-decoration-color: #800080; font-style: italic\">None</span><span style=\"font-weight: bold\">)</span>.\n",
       "\n",
       "Ceres ⚳ is Square Mercury ☿ <span style=\"font-weight: bold\">(</span><span style=\"color: #008080; text-decoration-color: #008080; font-weight: bold\">6</span>° orb Separating<span style=\"font-weight: bold\">)</span>.\n",
       "Ceres ⚳ is Sextile Saturn ♄ <span style=\"font-weight: bold\">(</span><span style=\"color: #008080; text-decoration-color: #008080; font-weight: bold\">3</span>° orb Applying<span style=\"font-weight: bold\">)</span>.\n",
       "Ceres ⚳ is Square Uranus ♅ <span style=\"font-weight: bold\">(</span><span style=\"color: #008080; text-decoration-color: #008080; font-weight: bold\">2</span>° orb Applying<span style=\"font-weight: bold\">)</span>.\n",
       "Ceres ⚳ is Square Neptune ♆ <span style=\"font-weight: bold\">(</span><span style=\"color: #008080; text-decoration-color: #008080; font-weight: bold\">4</span>° orb Applying<span style=\"font-weight: bold\">)</span>.\n",
       "Ceres ⚳ is Conjunct Asc <span style=\"font-weight: bold\">(</span><span style=\"color: #008080; text-decoration-color: #008080; font-weight: bold\">7</span>° orb <span style=\"color: #800080; text-decoration-color: #800080; font-style: italic\">None</span><span style=\"font-weight: bold\">)</span>.\n",
       "\n",
       "Pallas ⚴ is Trine Moon ☽ <span style=\"font-weight: bold\">(</span><span style=\"color: #008080; text-decoration-color: #008080; font-weight: bold\">5</span>° orb Applying<span style=\"font-weight: bold\">)</span>.\n",
       "Pallas ⚴ is Trine Jupiter ♃ <span style=\"font-weight: bold\">(</span><span style=\"color: #008080; text-decoration-color: #008080; font-weight: bold\">5</span>° orb Separating<span style=\"font-weight: bold\">)</span>.\n",
       "Pallas ⚴ is Conjunct Saturn ♄ <span style=\"font-weight: bold\">(</span><span style=\"color: #008080; text-decoration-color: #008080; font-weight: bold\">8</span>° orb Separating<span style=\"font-weight: bold\">)</span>.\n",
       "Pallas ⚴ is Square North Node ☊ <span style=\"font-weight: bold\">(</span><span style=\"color: #008080; text-decoration-color: #008080; font-weight: bold\">3</span>° orb Separating<span style=\"font-weight: bold\">)</span>.\n",
       "Pallas ⚴ is Sextile MC <span style=\"font-weight: bold\">(</span><span style=\"color: #008080; text-decoration-color: #008080; font-weight: bold\">4</span>° orb <span style=\"color: #800080; text-decoration-color: #800080; font-style: italic\">None</span><span style=\"font-weight: bold\">)</span>.\n",
       "\n",
       "Juno ⚵ is Trine Saturn ♄ <span style=\"font-weight: bold\">(</span><span style=\"color: #008080; text-decoration-color: #008080; font-weight: bold\">0</span>° orb Applying<span style=\"font-weight: bold\">)</span>.\n",
       "Juno ⚵ is Square Uranus ♅ <span style=\"font-weight: bold\">(</span><span style=\"color: #008080; text-decoration-color: #008080; font-weight: bold\">6</span>° orb Applying<span style=\"font-weight: bold\">)</span>.\n",
       "Juno ⚵ is Square Neptune ♆ <span style=\"font-weight: bold\">(</span><span style=\"color: #008080; text-decoration-color: #008080; font-weight: bold\">7</span>° orb Applying<span style=\"font-weight: bold\">)</span>.\n",
       "\n",
       "Vesta ⚶ is Sextile Sun ☉ <span style=\"font-weight: bold\">(</span><span style=\"color: #008080; text-decoration-color: #008080; font-weight: bold\">3</span>° orb Applying<span style=\"font-weight: bold\">)</span>.\n",
       "Vesta ⚶ is Sextile Mercury ☿ <span style=\"font-weight: bold\">(</span><span style=\"color: #008080; text-decoration-color: #008080; font-weight: bold\">1</span>° orb Applying<span style=\"font-weight: bold\">)</span>.\n",
       "Vesta ⚶ is Sextile Venus ♂ <span style=\"font-weight: bold\">(</span><span style=\"color: #008080; text-decoration-color: #008080; font-weight: bold\">5</span>° orb Applying<span style=\"font-weight: bold\">)</span>.\n",
       "Vesta ⚶ is Sextile Mars ♀ <span style=\"font-weight: bold\">(</span><span style=\"color: #008080; text-decoration-color: #008080; font-weight: bold\">6</span>° orb Applying<span style=\"font-weight: bold\">)</span>.\n",
       "Vesta ⚶ is Sextile Uranus ♅ <span style=\"font-weight: bold\">(</span><span style=\"color: #008080; text-decoration-color: #008080; font-weight: bold\">3</span>° orb Separating<span style=\"font-weight: bold\">)</span>.\n",
       "Vesta ⚶ is Sextile Neptune ♆ <span style=\"font-weight: bold\">(</span><span style=\"color: #008080; text-decoration-color: #008080; font-weight: bold\">2</span>° orb Separating<span style=\"font-weight: bold\">)</span>.\n",
       "\n",
       "\n",
       "</pre>\n"
      ],
      "text/plain": [
       "Planet Aspects:\n",
       "Sun ☉ is Sextile Moon ☽ \u001b[1m(\u001b[0m\u001b[1;36m6\u001b[0m° orb Applying\u001b[1m)\u001b[0m.\n",
       "Sun ☉ is Conjunct Mercury ☿ \u001b[1m(\u001b[0m\u001b[1;36m2\u001b[0m° orb Separating\u001b[1m)\u001b[0m.\n",
       "Sun ☉ is Conjunct Venus ♂ \u001b[1m(\u001b[0m\u001b[1;36m2\u001b[0m° orb Applying\u001b[1m)\u001b[0m.\n",
       "Sun ☉ is Conjunct Mars ♀ \u001b[1m(\u001b[0m\u001b[1;36m3\u001b[0m° orb Separating\u001b[1m)\u001b[0m.\n",
       "Sun ☉ is Sextile Jupiter ♃ \u001b[1m(\u001b[0m\u001b[1;36m6\u001b[0m° orb Separating\u001b[1m)\u001b[0m.\n",
       "Sun ☉ is Conjunct Uranus ♅ \u001b[1m(\u001b[0m\u001b[1;36m6\u001b[0m° orb Applying\u001b[1m)\u001b[0m.\n",
       "Sun ☉ is Conjunct Neptune ♆ \u001b[1m(\u001b[0m\u001b[1;36m4\u001b[0m° orb Applying\u001b[1m)\u001b[0m.\n",
       "Sun ☉ is Square Asc \u001b[1m(\u001b[0m\u001b[1;36m1\u001b[0m° orb \u001b[3;35mNone\u001b[0m\u001b[1m)\u001b[0m.\n",
       "Sun ☉ is Conjunct MC \u001b[1m(\u001b[0m\u001b[1;36m7\u001b[0m° orb \u001b[3;35mNone\u001b[0m\u001b[1m)\u001b[0m.\n",
       "\n",
       "Moon ☽ is Sextile Mercury ☿ \u001b[1m(\u001b[0m\u001b[1;36m8\u001b[0m° orb Applying\u001b[1m)\u001b[0m.\n",
       "Moon ☽ is Sextile Venus ♂ \u001b[1m(\u001b[0m\u001b[1;36m4\u001b[0m° orb Applying\u001b[1m)\u001b[0m.\n",
       "Moon ☽ is Sextile Mars ♀ \u001b[1m(\u001b[0m\u001b[1;36m3\u001b[0m° orb Applying\u001b[1m)\u001b[0m.\n",
       "Moon ☽ is Conjunct Jupiter ♃ \u001b[1m(\u001b[0m\u001b[1;36m0\u001b[0m° orb Applying\u001b[1m)\u001b[0m.\n",
       "Moon ☽ is Sextile MC \u001b[1m(\u001b[0m\u001b[1;36m1\u001b[0m° orb \u001b[3;35mNone\u001b[0m\u001b[1m)\u001b[0m.\n",
       "\n",
       "Mercury ☿ is Conjunct Venus ♂ \u001b[1m(\u001b[0m\u001b[1;36m4\u001b[0m° orb Separating\u001b[1m)\u001b[0m.\n",
       "Mercury ☿ is Conjunct Mars ♀ \u001b[1m(\u001b[0m\u001b[1;36m5\u001b[0m° orb Separating\u001b[1m)\u001b[0m.\n",
       "Mercury ☿ is Sextile Jupiter ♃ \u001b[1m(\u001b[0m\u001b[1;36m7\u001b[0m° orb Separating\u001b[1m)\u001b[0m.\n",
       "Mercury ☿ is Conjunct Uranus ♅ \u001b[1m(\u001b[0m\u001b[1;36m4\u001b[0m° orb Applying\u001b[1m)\u001b[0m.\n",
       "Mercury ☿ is Conjunct Neptune ♆ \u001b[1m(\u001b[0m\u001b[1;36m3\u001b[0m° orb Applying\u001b[1m)\u001b[0m.\n",
       "Mercury ☿ is Square Asc \u001b[1m(\u001b[0m\u001b[1;36m1\u001b[0m° orb \u001b[3;35mNone\u001b[0m\u001b[1m)\u001b[0m.\n",
       "\n",
       "Venus ♂ is Conjunct Mars ♀ \u001b[1m(\u001b[0m\u001b[1;36m0\u001b[0m° orb Separating\u001b[1m)\u001b[0m.\n",
       "Venus ♂ is Sextile Jupiter ♃ \u001b[1m(\u001b[0m\u001b[1;36m3\u001b[0m° orb Separating\u001b[1m)\u001b[0m.\n",
       "Venus ♂ is Conjunct Neptune ♆ \u001b[1m(\u001b[0m\u001b[1;36m7\u001b[0m° orb Applying\u001b[1m)\u001b[0m.\n",
       "Venus ♂ is Square Asc \u001b[1m(\u001b[0m\u001b[1;36m3\u001b[0m° orb \u001b[3;35mNone\u001b[0m\u001b[1m)\u001b[0m.\n",
       "Venus ♂ is Conjunct MC \u001b[1m(\u001b[0m\u001b[1;36m4\u001b[0m° orb \u001b[3;35mNone\u001b[0m\u001b[1m)\u001b[0m.\n",
       "\n",
       "Mars ♀ is Sextile Jupiter ♃ \u001b[1m(\u001b[0m\u001b[1;36m3\u001b[0m° orb Separating\u001b[1m)\u001b[0m.\n",
       "Mars ♀ is Conjunct Neptune ♆ \u001b[1m(\u001b[0m\u001b[1;36m7\u001b[0m° orb Applying\u001b[1m)\u001b[0m.\n",
       "Mars ♀ is Square Asc \u001b[1m(\u001b[0m\u001b[1;36m4\u001b[0m° orb \u001b[3;35mNone\u001b[0m\u001b[1m)\u001b[0m.\n",
       "Mars ♀ is Conjunct MC \u001b[1m(\u001b[0m\u001b[1;36m4\u001b[0m° orb \u001b[3;35mNone\u001b[0m\u001b[1m)\u001b[0m.\n",
       "\n",
       "Jupiter ♃ is Sextile MC \u001b[1m(\u001b[0m\u001b[1;36m1\u001b[0m° orb \u001b[3;35mNone\u001b[0m\u001b[1m)\u001b[0m.\n",
       "\n",
       "Saturn ♄ is Square Pluto ♇ \u001b[1m(\u001b[0m\u001b[1;36m0\u001b[0m° orb Separating\u001b[1m)\u001b[0m.\n",
       "Saturn ♄ is Square North Node ☊ \u001b[1m(\u001b[0m\u001b[1;36m5\u001b[0m° orb Separating\u001b[1m)\u001b[0m.\n",
       "\n",
       "Uranus ♅ is Conjunct Neptune ♆ \u001b[1m(\u001b[0m\u001b[1;36m1\u001b[0m° orb Separating\u001b[1m)\u001b[0m.\n",
       "Uranus ♅ is Sextile Pluto ♇ \u001b[1m(\u001b[0m\u001b[1;36m5\u001b[0m° orb Separating\u001b[1m)\u001b[0m.\n",
       "Uranus ♅ is Square Asc \u001b[1m(\u001b[0m\u001b[1;36m5\u001b[0m° orb \u001b[3;35mNone\u001b[0m\u001b[1m)\u001b[0m.\n",
       "\n",
       "Neptune ♆ is Sextile Pluto ♇ \u001b[1m(\u001b[0m\u001b[1;36m7\u001b[0m° orb Separating\u001b[1m)\u001b[0m.\n",
       "Neptune ♆ is Square Asc \u001b[1m(\u001b[0m\u001b[1;36m4\u001b[0m° orb \u001b[3;35mNone\u001b[0m\u001b[1m)\u001b[0m.\n",
       "\n",
       "Pluto ♇ is Conjunct North Node ☊ \u001b[1m(\u001b[0m\u001b[1;36m5\u001b[0m° orb Applying\u001b[1m)\u001b[0m.\n",
       "\n",
       "\n",
       "South Node ☋ is Square Saturn ♄ \u001b[1m(\u001b[0m\u001b[1;36m5\u001b[0m° orb Separating\u001b[1m)\u001b[0m.\n",
       "South Node ☋ is Opposition Pluto ♇ \u001b[1m(\u001b[0m\u001b[1;36m5\u001b[0m° orb Separating\u001b[1m)\u001b[0m.\n",
       "South Node ☋ is Opposition North Node ☊ \u001b[1m(\u001b[0m\u001b[1;36m0\u001b[0m° orb Separating\u001b[1m)\u001b[0m.\n",
       "\n",
       "BM Lilith ⚸ is Sextile Saturn ♄ \u001b[1m(\u001b[0m\u001b[1;36m3\u001b[0m° orb Applying\u001b[1m)\u001b[0m.\n",
       "\n",
       "Chiron ⚷ is Trine Sun ☉ \u001b[1m(\u001b[0m\u001b[1;36m7\u001b[0m° orb Separating\u001b[1m)\u001b[0m.\n",
       "Chiron ⚷ is Sextile Moon ☽ \u001b[1m(\u001b[0m\u001b[1;36m1\u001b[0m° orb Separating\u001b[1m)\u001b[0m.\n",
       "Chiron ⚷ is Trine Venus ♂ \u001b[1m(\u001b[0m\u001b[1;36m5\u001b[0m° orb Separating\u001b[1m)\u001b[0m.\n",
       "Chiron ⚷ is Trine Mars ♀ \u001b[1m(\u001b[0m\u001b[1;36m4\u001b[0m° orb Separating\u001b[1m)\u001b[0m.\n",
       "Chiron ⚷ is Sextile Jupiter ♃ \u001b[1m(\u001b[0m\u001b[1;36m2\u001b[0m° orb Separating\u001b[1m)\u001b[0m.\n",
       "Chiron ⚷ is Square North Node ☊ \u001b[1m(\u001b[0m\u001b[1;36m7\u001b[0m° orb Separating\u001b[1m)\u001b[0m.\n",
       "Chiron ⚷ is Trine MC \u001b[1m(\u001b[0m\u001b[1;36m1\u001b[0m° orb \u001b[3;35mNone\u001b[0m\u001b[1m)\u001b[0m.\n",
       "\n",
       "Pholus 𝛷 is Sextile Moon ☽ \u001b[1m(\u001b[0m\u001b[1;36m6\u001b[0m° orb Separating\u001b[1m)\u001b[0m.\n",
       "Pholus 𝛷 is Sextile Jupiter ♃ \u001b[1m(\u001b[0m\u001b[1;36m6\u001b[0m° orb Separating\u001b[1m)\u001b[0m.\n",
       "Pholus 𝛷 is Opposition Saturn ♄ \u001b[1m(\u001b[0m\u001b[1;36m7\u001b[0m° orb Separating\u001b[1m)\u001b[0m.\n",
       "Pholus 𝛷 is Square Pluto ♇ \u001b[1m(\u001b[0m\u001b[1;36m7\u001b[0m° orb Separating\u001b[1m)\u001b[0m.\n",
       "Pholus 𝛷 is Square North Node ☊ \u001b[1m(\u001b[0m\u001b[1;36m2\u001b[0m° orb Separating\u001b[1m)\u001b[0m.\n",
       "Pholus 𝛷 is Trine MC \u001b[1m(\u001b[0m\u001b[1;36m5\u001b[0m° orb \u001b[3;35mNone\u001b[0m\u001b[1m)\u001b[0m.\n",
       "\n",
       "Ceres ⚳ is Square Mercury ☿ \u001b[1m(\u001b[0m\u001b[1;36m6\u001b[0m° orb Separating\u001b[1m)\u001b[0m.\n",
       "Ceres ⚳ is Sextile Saturn ♄ \u001b[1m(\u001b[0m\u001b[1;36m3\u001b[0m° orb Applying\u001b[1m)\u001b[0m.\n",
       "Ceres ⚳ is Square Uranus ♅ \u001b[1m(\u001b[0m\u001b[1;36m2\u001b[0m° orb Applying\u001b[1m)\u001b[0m.\n",
       "Ceres ⚳ is Square Neptune ♆ \u001b[1m(\u001b[0m\u001b[1;36m4\u001b[0m° orb Applying\u001b[1m)\u001b[0m.\n",
       "Ceres ⚳ is Conjunct Asc \u001b[1m(\u001b[0m\u001b[1;36m7\u001b[0m° orb \u001b[3;35mNone\u001b[0m\u001b[1m)\u001b[0m.\n",
       "\n",
       "Pallas ⚴ is Trine Moon ☽ \u001b[1m(\u001b[0m\u001b[1;36m5\u001b[0m° orb Applying\u001b[1m)\u001b[0m.\n",
       "Pallas ⚴ is Trine Jupiter ♃ \u001b[1m(\u001b[0m\u001b[1;36m5\u001b[0m° orb Separating\u001b[1m)\u001b[0m.\n",
       "Pallas ⚴ is Conjunct Saturn ♄ \u001b[1m(\u001b[0m\u001b[1;36m8\u001b[0m° orb Separating\u001b[1m)\u001b[0m.\n",
       "Pallas ⚴ is Square North Node ☊ \u001b[1m(\u001b[0m\u001b[1;36m3\u001b[0m° orb Separating\u001b[1m)\u001b[0m.\n",
       "Pallas ⚴ is Sextile MC \u001b[1m(\u001b[0m\u001b[1;36m4\u001b[0m° orb \u001b[3;35mNone\u001b[0m\u001b[1m)\u001b[0m.\n",
       "\n",
       "Juno ⚵ is Trine Saturn ♄ \u001b[1m(\u001b[0m\u001b[1;36m0\u001b[0m° orb Applying\u001b[1m)\u001b[0m.\n",
       "Juno ⚵ is Square Uranus ♅ \u001b[1m(\u001b[0m\u001b[1;36m6\u001b[0m° orb Applying\u001b[1m)\u001b[0m.\n",
       "Juno ⚵ is Square Neptune ♆ \u001b[1m(\u001b[0m\u001b[1;36m7\u001b[0m° orb Applying\u001b[1m)\u001b[0m.\n",
       "\n",
       "Vesta ⚶ is Sextile Sun ☉ \u001b[1m(\u001b[0m\u001b[1;36m3\u001b[0m° orb Applying\u001b[1m)\u001b[0m.\n",
       "Vesta ⚶ is Sextile Mercury ☿ \u001b[1m(\u001b[0m\u001b[1;36m1\u001b[0m° orb Applying\u001b[1m)\u001b[0m.\n",
       "Vesta ⚶ is Sextile Venus ♂ \u001b[1m(\u001b[0m\u001b[1;36m5\u001b[0m° orb Applying\u001b[1m)\u001b[0m.\n",
       "Vesta ⚶ is Sextile Mars ♀ \u001b[1m(\u001b[0m\u001b[1;36m6\u001b[0m° orb Applying\u001b[1m)\u001b[0m.\n",
       "Vesta ⚶ is Sextile Uranus ♅ \u001b[1m(\u001b[0m\u001b[1;36m3\u001b[0m° orb Separating\u001b[1m)\u001b[0m.\n",
       "Vesta ⚶ is Sextile Neptune ♆ \u001b[1m(\u001b[0m\u001b[1;36m2\u001b[0m° orb Separating\u001b[1m)\u001b[0m.\n",
       "\n",
       "\n"
      ]
     },
     "metadata": {},
     "output_type": "display_data"
    }
   ],
   "source": [
    "person = \"Me\"\n",
    "\n",
    "chart = Chart(\n",
    "    date=people[person][\"birthdate\"], houses=\"Whole Sign\", loc_name=people[person][\"city_name\"]\n",
    ")\n",
    "\n",
    "# Set up console\n",
    "console = Console()\n",
    "\n",
    "# Print chart placements and aspects\n",
    "# console.print(create_table_dignities(chart, plain=True))\n",
    "print_chart_summary(chart, console, plain=True, fmt=\"word\")\n",
    "\n",
    "# console.print(create_table_midpoints(chart, plain=True))"
   ]
  },
  {
   "cell_type": "code",
   "execution_count": null,
   "metadata": {},
   "outputs": [],
   "source": []
  },
  {
   "cell_type": "markdown",
   "metadata": {},
   "source": [
    "# Using Placidus Houses Instead"
   ]
  },
  {
   "cell_type": "code",
   "execution_count": 5,
   "metadata": {},
   "outputs": [
    {
     "name": "stdout",
     "output_type": "stream",
     "text": [
      "San Francisco, California, United States (37.7792588, -122.4193286)\n",
      "Timezone: America/Los_Angeles\n",
      "Date: January 6, 1994 at 19:47 Universal Time (Local Date: January 6, 1994 at 11:47 Universal Time)\n"
     ]
    },
    {
     "data": {
      "text/html": [
       "<pre style=\"white-space:pre;overflow-x:auto;line-height:normal;font-family:Menlo,'DejaVu Sans Mono',consolas,'Courier New',monospace\">\n",
       "</pre>\n"
      ],
      "text/plain": [
       "\n"
      ]
     },
     "metadata": {},
     "output_type": "display_data"
    },
    {
     "data": {
      "text/html": [
       "<pre style=\"white-space:pre;overflow-x:auto;line-height:normal;font-family:Menlo,'DejaVu Sans Mono',consolas,'Courier New',monospace\">Planet Placements\n",
       "------------------------------------------------------------\n",
       "        Sun ☉ | Capricorn    | <span style=\"color: #008080; text-decoration-color: #008080; font-weight: bold\">16</span>°<span style=\"color: #008080; text-decoration-color: #008080; font-weight: bold\">16</span>'<span style=\"color: #008080; text-decoration-color: #008080; font-weight: bold\">24</span>\"  |      | House <span style=\"color: #008080; text-decoration-color: #008080; font-weight: bold\">10</span>\n",
       "       Moon ☽ | Scorpio      | <span style=\"color: #008080; text-decoration-color: #008080; font-weight: bold\">10</span>°<span style=\"color: #008080; text-decoration-color: #008080; font-weight: bold\">11</span>'<span style=\"color: #008080; text-decoration-color: #008080; font-weight: bold\">53</span>\"  |      | House <span style=\"color: #008080; text-decoration-color: #008080; font-weight: bold\">7</span>\n",
       "    Mercury ☿ | Capricorn    | <span style=\"color: #008080; text-decoration-color: #008080; font-weight: bold\">18</span>°<span style=\"color: #008080; text-decoration-color: #008080; font-weight: bold\">4</span>'<span style=\"color: #008080; text-decoration-color: #008080; font-weight: bold\">29</span>\"   |      | House <span style=\"color: #008080; text-decoration-color: #008080; font-weight: bold\">10</span>\n",
       "      Venus ♂ | Capricorn    | <span style=\"color: #008080; text-decoration-color: #008080; font-weight: bold\">14</span>°<span style=\"color: #008080; text-decoration-color: #008080; font-weight: bold\">49</span>'<span style=\"color: #008080; text-decoration-color: #008080; font-weight: bold\">19</span>\"  |      | House <span style=\"color: #008080; text-decoration-color: #008080; font-weight: bold\">10</span>\n",
       "       Mars ♀ | Capricorn    | <span style=\"color: #008080; text-decoration-color: #008080; font-weight: bold\">14</span>°<span style=\"color: #008080; text-decoration-color: #008080; font-weight: bold\">31</span>'<span style=\"color: #008080; text-decoration-color: #008080; font-weight: bold\">7</span>\"   |      | House <span style=\"color: #008080; text-decoration-color: #008080; font-weight: bold\">10</span>\n",
       "    Jupiter ♃ | Scorpio      | <span style=\"color: #008080; text-decoration-color: #008080; font-weight: bold\">11</span>°<span style=\"color: #008080; text-decoration-color: #008080; font-weight: bold\">37</span>'<span style=\"color: #008080; text-decoration-color: #008080; font-weight: bold\">20</span>\"  |      | House <span style=\"color: #008080; text-decoration-color: #008080; font-weight: bold\">7</span>\n",
       "     Saturn ♄ | Aquarius     | <span style=\"color: #008080; text-decoration-color: #008080; font-weight: bold\">28</span>°<span style=\"color: #008080; text-decoration-color: #008080; font-weight: bold\">34</span>'<span style=\"color: #008080; text-decoration-color: #008080; font-weight: bold\">26</span>\"  |      | House <span style=\"color: #008080; text-decoration-color: #008080; font-weight: bold\">11</span>\n",
       "     Uranus ♅ | Capricorn    | <span style=\"color: #008080; text-decoration-color: #008080; font-weight: bold\">22</span>°<span style=\"color: #008080; text-decoration-color: #008080; font-weight: bold\">55</span>'<span style=\"color: #008080; text-decoration-color: #008080; font-weight: bold\">18</span>\"  |      | House <span style=\"color: #008080; text-decoration-color: #008080; font-weight: bold\">10</span>\n",
       "    Neptune ♆ | Capricorn    | <span style=\"color: #008080; text-decoration-color: #008080; font-weight: bold\">21</span>°<span style=\"color: #008080; text-decoration-color: #008080; font-weight: bold\">41</span>'<span style=\"color: #008080; text-decoration-color: #008080; font-weight: bold\">47</span>\"  |      | House <span style=\"color: #008080; text-decoration-color: #008080; font-weight: bold\">10</span>\n",
       "      Pluto ♇ | Scorpio      | <span style=\"color: #008080; text-decoration-color: #008080; font-weight: bold\">27</span>°<span style=\"color: #008080; text-decoration-color: #008080; font-weight: bold\">15</span>'<span style=\"color: #008080; text-decoration-color: #008080; font-weight: bold\">3</span>\"   |      | House <span style=\"color: #008080; text-decoration-color: #008080; font-weight: bold\">8</span>\n",
       " North Node ☊ | Sagittarius  | <span style=\"color: #008080; text-decoration-color: #008080; font-weight: bold\">2</span>°<span style=\"color: #008080; text-decoration-color: #008080; font-weight: bold\">14</span>'<span style=\"color: #008080; text-decoration-color: #008080; font-weight: bold\">11</span>\"   |      | House <span style=\"color: #008080; text-decoration-color: #008080; font-weight: bold\">8</span>\n",
       " South Node ☋ | Gemini       | <span style=\"color: #008080; text-decoration-color: #008080; font-weight: bold\">2</span>°<span style=\"color: #008080; text-decoration-color: #008080; font-weight: bold\">14</span>'<span style=\"color: #008080; text-decoration-color: #008080; font-weight: bold\">11</span>\"   |      | House <span style=\"color: #008080; text-decoration-color: #008080; font-weight: bold\">2</span>\n",
       "  BM Lilith ⚸ | Taurus       | <span style=\"color: #008080; text-decoration-color: #008080; font-weight: bold\">1</span>°<span style=\"color: #008080; text-decoration-color: #008080; font-weight: bold\">60</span>'<span style=\"color: #008080; text-decoration-color: #008080; font-weight: bold\">39</span>\"   |      | House <span style=\"color: #008080; text-decoration-color: #008080; font-weight: bold\">1</span>\n",
       "     Chiron ⚷ | Virgo        | <span style=\"color: #008080; text-decoration-color: #008080; font-weight: bold\">9</span>°<span style=\"color: #008080; text-decoration-color: #008080; font-weight: bold\">6</span>'<span style=\"color: #008080; text-decoration-color: #008080; font-weight: bold\">56</span>\"    | Rtg. | House <span style=\"color: #008080; text-decoration-color: #008080; font-weight: bold\">6</span>\n",
       "     Pholus 𝛷 | Virgo        | <span style=\"color: #008080; text-decoration-color: #008080; font-weight: bold\">4</span>°<span style=\"color: #008080; text-decoration-color: #008080; font-weight: bold\">25</span>'<span style=\"color: #008080; text-decoration-color: #008080; font-weight: bold\">18</span>\"   | Rtg. | House <span style=\"color: #008080; text-decoration-color: #008080; font-weight: bold\">6</span>\n",
       "      Ceres ⚳ | Aries        | <span style=\"color: #008080; text-decoration-color: #008080; font-weight: bold\">24</span>°<span style=\"color: #008080; text-decoration-color: #008080; font-weight: bold\">24</span>'<span style=\"color: #008080; text-decoration-color: #008080; font-weight: bold\">26</span>\"  |      | House <span style=\"color: #008080; text-decoration-color: #008080; font-weight: bold\">1</span>\n",
       "     Pallas ⚴ | Pisces       | <span style=\"color: #008080; text-decoration-color: #008080; font-weight: bold\">5</span>°<span style=\"color: #008080; text-decoration-color: #008080; font-weight: bold\">26</span>'<span style=\"color: #008080; text-decoration-color: #008080; font-weight: bold\">28</span>\"   |      | House <span style=\"color: #008080; text-decoration-color: #008080; font-weight: bold\">12</span>\n",
       "       Juno ⚵ | Libra        | <span style=\"color: #008080; text-decoration-color: #008080; font-weight: bold\">28</span>°<span style=\"color: #008080; text-decoration-color: #008080; font-weight: bold\">55</span>'<span style=\"color: #008080; text-decoration-color: #008080; font-weight: bold\">50</span>\"  |      | House <span style=\"color: #008080; text-decoration-color: #008080; font-weight: bold\">7</span>\n",
       "      Vesta ⚶ | Pisces       | <span style=\"color: #008080; text-decoration-color: #008080; font-weight: bold\">19</span>°<span style=\"color: #008080; text-decoration-color: #008080; font-weight: bold\">5</span>'<span style=\"color: #008080; text-decoration-color: #008080; font-weight: bold\">49</span>\"   |      | House <span style=\"color: #008080; text-decoration-color: #008080; font-weight: bold\">12</span>\n",
       "\n",
       "</pre>\n"
      ],
      "text/plain": [
       "Planet Placements\n",
       "------------------------------------------------------------\n",
       "        Sun ☉ | Capricorn    | \u001b[1;36m16\u001b[0m°\u001b[1;36m16\u001b[0m'\u001b[1;36m24\u001b[0m\"  |      | House \u001b[1;36m10\u001b[0m\n",
       "       Moon ☽ | Scorpio      | \u001b[1;36m10\u001b[0m°\u001b[1;36m11\u001b[0m'\u001b[1;36m53\u001b[0m\"  |      | House \u001b[1;36m7\u001b[0m\n",
       "    Mercury ☿ | Capricorn    | \u001b[1;36m18\u001b[0m°\u001b[1;36m4\u001b[0m'\u001b[1;36m29\u001b[0m\"   |      | House \u001b[1;36m10\u001b[0m\n",
       "      Venus ♂ | Capricorn    | \u001b[1;36m14\u001b[0m°\u001b[1;36m49\u001b[0m'\u001b[1;36m19\u001b[0m\"  |      | House \u001b[1;36m10\u001b[0m\n",
       "       Mars ♀ | Capricorn    | \u001b[1;36m14\u001b[0m°\u001b[1;36m31\u001b[0m'\u001b[1;36m7\u001b[0m\"   |      | House \u001b[1;36m10\u001b[0m\n",
       "    Jupiter ♃ | Scorpio      | \u001b[1;36m11\u001b[0m°\u001b[1;36m37\u001b[0m'\u001b[1;36m20\u001b[0m\"  |      | House \u001b[1;36m7\u001b[0m\n",
       "     Saturn ♄ | Aquarius     | \u001b[1;36m28\u001b[0m°\u001b[1;36m34\u001b[0m'\u001b[1;36m26\u001b[0m\"  |      | House \u001b[1;36m11\u001b[0m\n",
       "     Uranus ♅ | Capricorn    | \u001b[1;36m22\u001b[0m°\u001b[1;36m55\u001b[0m'\u001b[1;36m18\u001b[0m\"  |      | House \u001b[1;36m10\u001b[0m\n",
       "    Neptune ♆ | Capricorn    | \u001b[1;36m21\u001b[0m°\u001b[1;36m41\u001b[0m'\u001b[1;36m47\u001b[0m\"  |      | House \u001b[1;36m10\u001b[0m\n",
       "      Pluto ♇ | Scorpio      | \u001b[1;36m27\u001b[0m°\u001b[1;36m15\u001b[0m'\u001b[1;36m3\u001b[0m\"   |      | House \u001b[1;36m8\u001b[0m\n",
       " North Node ☊ | Sagittarius  | \u001b[1;36m2\u001b[0m°\u001b[1;36m14\u001b[0m'\u001b[1;36m11\u001b[0m\"   |      | House \u001b[1;36m8\u001b[0m\n",
       " South Node ☋ | Gemini       | \u001b[1;36m2\u001b[0m°\u001b[1;36m14\u001b[0m'\u001b[1;36m11\u001b[0m\"   |      | House \u001b[1;36m2\u001b[0m\n",
       "  BM Lilith ⚸ | Taurus       | \u001b[1;36m1\u001b[0m°\u001b[1;36m60\u001b[0m'\u001b[1;36m39\u001b[0m\"   |      | House \u001b[1;36m1\u001b[0m\n",
       "     Chiron ⚷ | Virgo        | \u001b[1;36m9\u001b[0m°\u001b[1;36m6\u001b[0m'\u001b[1;36m56\u001b[0m\"    | Rtg. | House \u001b[1;36m6\u001b[0m\n",
       "     Pholus 𝛷 | Virgo        | \u001b[1;36m4\u001b[0m°\u001b[1;36m25\u001b[0m'\u001b[1;36m18\u001b[0m\"   | Rtg. | House \u001b[1;36m6\u001b[0m\n",
       "      Ceres ⚳ | Aries        | \u001b[1;36m24\u001b[0m°\u001b[1;36m24\u001b[0m'\u001b[1;36m26\u001b[0m\"  |      | House \u001b[1;36m1\u001b[0m\n",
       "     Pallas ⚴ | Pisces       | \u001b[1;36m5\u001b[0m°\u001b[1;36m26\u001b[0m'\u001b[1;36m28\u001b[0m\"   |      | House \u001b[1;36m12\u001b[0m\n",
       "       Juno ⚵ | Libra        | \u001b[1;36m28\u001b[0m°\u001b[1;36m55\u001b[0m'\u001b[1;36m50\u001b[0m\"  |      | House \u001b[1;36m7\u001b[0m\n",
       "      Vesta ⚶ | Pisces       | \u001b[1;36m19\u001b[0m°\u001b[1;36m5\u001b[0m'\u001b[1;36m49\u001b[0m\"   |      | House \u001b[1;36m12\u001b[0m\n",
       "\n"
      ]
     },
     "metadata": {},
     "output_type": "display_data"
    },
    {
     "data": {
      "text/html": [
       "<pre style=\"white-space:pre;overflow-x:auto;line-height:normal;font-family:Menlo,'DejaVu Sans Mono',consolas,'Courier New',monospace\">\n",
       "</pre>\n"
      ],
      "text/plain": [
       "\n"
      ]
     },
     "metadata": {},
     "output_type": "display_data"
    },
    {
     "data": {
      "text/html": [
       "<pre style=\"white-space:pre;overflow-x:auto;line-height:normal;font-family:Menlo,'DejaVu Sans Mono',consolas,'Courier New',monospace\">House Cusps\n",
       "------------------------------\n",
       "  <span style=\"color: #008080; text-decoration-color: #008080; font-weight: bold\">1</span> | Aries        | <span style=\"color: #008080; text-decoration-color: #008080; font-weight: bold\">17</span>°<span style=\"color: #008080; text-decoration-color: #008080; font-weight: bold\">3</span>'<span style=\"color: #008080; text-decoration-color: #008080; font-weight: bold\">40</span>\"  \n",
       "  <span style=\"color: #008080; text-decoration-color: #008080; font-weight: bold\">2</span> | Taurus       | <span style=\"color: #008080; text-decoration-color: #008080; font-weight: bold\">23</span>°<span style=\"color: #008080; text-decoration-color: #008080; font-weight: bold\">55</span>'<span style=\"color: #008080; text-decoration-color: #008080; font-weight: bold\">33</span>\" \n",
       "  <span style=\"color: #008080; text-decoration-color: #008080; font-weight: bold\">3</span> | Gemini       | <span style=\"color: #008080; text-decoration-color: #008080; font-weight: bold\">18</span>°<span style=\"color: #008080; text-decoration-color: #008080; font-weight: bold\">54</span>'<span style=\"color: #008080; text-decoration-color: #008080; font-weight: bold\">29</span>\" \n",
       "  <span style=\"color: #008080; text-decoration-color: #008080; font-weight: bold\">4</span> | Cancer       | <span style=\"color: #008080; text-decoration-color: #008080; font-weight: bold\">10</span>°<span style=\"color: #008080; text-decoration-color: #008080; font-weight: bold\">38</span>'<span style=\"color: #008080; text-decoration-color: #008080; font-weight: bold\">28</span>\" \n",
       "  <span style=\"color: #008080; text-decoration-color: #008080; font-weight: bold\">5</span> | Leo          | <span style=\"color: #008080; text-decoration-color: #008080; font-weight: bold\">3</span>°<span style=\"color: #008080; text-decoration-color: #008080; font-weight: bold\">53</span>'<span style=\"color: #008080; text-decoration-color: #008080; font-weight: bold\">17</span>\"  \n",
       "  <span style=\"color: #008080; text-decoration-color: #008080; font-weight: bold\">6</span> | Virgo        | <span style=\"color: #008080; text-decoration-color: #008080; font-weight: bold\">3</span>°<span style=\"color: #008080; text-decoration-color: #008080; font-weight: bold\">7</span>'<span style=\"color: #008080; text-decoration-color: #008080; font-weight: bold\">13</span>\"   \n",
       "  <span style=\"color: #008080; text-decoration-color: #008080; font-weight: bold\">7</span> | Libra        | <span style=\"color: #008080; text-decoration-color: #008080; font-weight: bold\">17</span>°<span style=\"color: #008080; text-decoration-color: #008080; font-weight: bold\">3</span>'<span style=\"color: #008080; text-decoration-color: #008080; font-weight: bold\">40</span>\"  \n",
       "  <span style=\"color: #008080; text-decoration-color: #008080; font-weight: bold\">8</span> | Scorpio      | <span style=\"color: #008080; text-decoration-color: #008080; font-weight: bold\">23</span>°<span style=\"color: #008080; text-decoration-color: #008080; font-weight: bold\">55</span>'<span style=\"color: #008080; text-decoration-color: #008080; font-weight: bold\">33</span>\" \n",
       "  <span style=\"color: #008080; text-decoration-color: #008080; font-weight: bold\">9</span> | Sagittarius  | <span style=\"color: #008080; text-decoration-color: #008080; font-weight: bold\">18</span>°<span style=\"color: #008080; text-decoration-color: #008080; font-weight: bold\">54</span>'<span style=\"color: #008080; text-decoration-color: #008080; font-weight: bold\">29</span>\" \n",
       " <span style=\"color: #008080; text-decoration-color: #008080; font-weight: bold\">10</span> | Capricorn    | <span style=\"color: #008080; text-decoration-color: #008080; font-weight: bold\">10</span>°<span style=\"color: #008080; text-decoration-color: #008080; font-weight: bold\">38</span>'<span style=\"color: #008080; text-decoration-color: #008080; font-weight: bold\">28</span>\" \n",
       " <span style=\"color: #008080; text-decoration-color: #008080; font-weight: bold\">11</span> | Aquarius     | <span style=\"color: #008080; text-decoration-color: #008080; font-weight: bold\">3</span>°<span style=\"color: #008080; text-decoration-color: #008080; font-weight: bold\">53</span>'<span style=\"color: #008080; text-decoration-color: #008080; font-weight: bold\">17</span>\"  \n",
       " <span style=\"color: #008080; text-decoration-color: #008080; font-weight: bold\">12</span> | Pisces       | <span style=\"color: #008080; text-decoration-color: #008080; font-weight: bold\">3</span>°<span style=\"color: #008080; text-decoration-color: #008080; font-weight: bold\">7</span>'<span style=\"color: #008080; text-decoration-color: #008080; font-weight: bold\">13</span>\"   \n",
       "\n",
       "</pre>\n"
      ],
      "text/plain": [
       "House Cusps\n",
       "------------------------------\n",
       "  \u001b[1;36m1\u001b[0m | Aries        | \u001b[1;36m17\u001b[0m°\u001b[1;36m3\u001b[0m'\u001b[1;36m40\u001b[0m\"  \n",
       "  \u001b[1;36m2\u001b[0m | Taurus       | \u001b[1;36m23\u001b[0m°\u001b[1;36m55\u001b[0m'\u001b[1;36m33\u001b[0m\" \n",
       "  \u001b[1;36m3\u001b[0m | Gemini       | \u001b[1;36m18\u001b[0m°\u001b[1;36m54\u001b[0m'\u001b[1;36m29\u001b[0m\" \n",
       "  \u001b[1;36m4\u001b[0m | Cancer       | \u001b[1;36m10\u001b[0m°\u001b[1;36m38\u001b[0m'\u001b[1;36m28\u001b[0m\" \n",
       "  \u001b[1;36m5\u001b[0m | Leo          | \u001b[1;36m3\u001b[0m°\u001b[1;36m53\u001b[0m'\u001b[1;36m17\u001b[0m\"  \n",
       "  \u001b[1;36m6\u001b[0m | Virgo        | \u001b[1;36m3\u001b[0m°\u001b[1;36m7\u001b[0m'\u001b[1;36m13\u001b[0m\"   \n",
       "  \u001b[1;36m7\u001b[0m | Libra        | \u001b[1;36m17\u001b[0m°\u001b[1;36m3\u001b[0m'\u001b[1;36m40\u001b[0m\"  \n",
       "  \u001b[1;36m8\u001b[0m | Scorpio      | \u001b[1;36m23\u001b[0m°\u001b[1;36m55\u001b[0m'\u001b[1;36m33\u001b[0m\" \n",
       "  \u001b[1;36m9\u001b[0m | Sagittarius  | \u001b[1;36m18\u001b[0m°\u001b[1;36m54\u001b[0m'\u001b[1;36m29\u001b[0m\" \n",
       " \u001b[1;36m10\u001b[0m | Capricorn    | \u001b[1;36m10\u001b[0m°\u001b[1;36m38\u001b[0m'\u001b[1;36m28\u001b[0m\" \n",
       " \u001b[1;36m11\u001b[0m | Aquarius     | \u001b[1;36m3\u001b[0m°\u001b[1;36m53\u001b[0m'\u001b[1;36m17\u001b[0m\"  \n",
       " \u001b[1;36m12\u001b[0m | Pisces       | \u001b[1;36m3\u001b[0m°\u001b[1;36m7\u001b[0m'\u001b[1;36m13\u001b[0m\"   \n",
       "\n"
      ]
     },
     "metadata": {},
     "output_type": "display_data"
    },
    {
     "data": {
      "text/html": [
       "<pre style=\"white-space:pre;overflow-x:auto;line-height:normal;font-family:Menlo,'DejaVu Sans Mono',consolas,'Courier New',monospace\">\n",
       "</pre>\n"
      ],
      "text/plain": [
       "\n"
      ]
     },
     "metadata": {},
     "output_type": "display_data"
    },
    {
     "data": {
      "text/html": [
       "<pre style=\"white-space:pre;overflow-x:auto;line-height:normal;font-family:Menlo,'DejaVu Sans Mono',consolas,'Courier New',monospace\">Chart Angles\n",
       "------------------------------\n",
       "Asc    | Aries        | <span style=\"color: #008080; text-decoration-color: #008080; font-weight: bold\">17</span>°<span style=\"color: #008080; text-decoration-color: #008080; font-weight: bold\">3</span>'<span style=\"color: #008080; text-decoration-color: #008080; font-weight: bold\">40</span>\"  \n",
       "Desc   | Libra        | <span style=\"color: #008080; text-decoration-color: #008080; font-weight: bold\">17</span>°<span style=\"color: #008080; text-decoration-color: #008080; font-weight: bold\">3</span>'<span style=\"color: #008080; text-decoration-color: #008080; font-weight: bold\">40</span>\"  \n",
       "MC     | Capricorn    | <span style=\"color: #008080; text-decoration-color: #008080; font-weight: bold\">10</span>°<span style=\"color: #008080; text-decoration-color: #008080; font-weight: bold\">38</span>'<span style=\"color: #008080; text-decoration-color: #008080; font-weight: bold\">28</span>\" \n",
       "IC     | Cancer       | <span style=\"color: #008080; text-decoration-color: #008080; font-weight: bold\">10</span>°<span style=\"color: #008080; text-decoration-color: #008080; font-weight: bold\">38</span>'<span style=\"color: #008080; text-decoration-color: #008080; font-weight: bold\">28</span>\" \n",
       "Vertex | Libra        | <span style=\"color: #008080; text-decoration-color: #008080; font-weight: bold\">7</span>°<span style=\"color: #008080; text-decoration-color: #008080; font-weight: bold\">20</span>'<span style=\"color: #008080; text-decoration-color: #008080; font-weight: bold\">48</span>\"  \n",
       "\n",
       "</pre>\n"
      ],
      "text/plain": [
       "Chart Angles\n",
       "------------------------------\n",
       "Asc    | Aries        | \u001b[1;36m17\u001b[0m°\u001b[1;36m3\u001b[0m'\u001b[1;36m40\u001b[0m\"  \n",
       "Desc   | Libra        | \u001b[1;36m17\u001b[0m°\u001b[1;36m3\u001b[0m'\u001b[1;36m40\u001b[0m\"  \n",
       "MC     | Capricorn    | \u001b[1;36m10\u001b[0m°\u001b[1;36m38\u001b[0m'\u001b[1;36m28\u001b[0m\" \n",
       "IC     | Cancer       | \u001b[1;36m10\u001b[0m°\u001b[1;36m38\u001b[0m'\u001b[1;36m28\u001b[0m\" \n",
       "Vertex | Libra        | \u001b[1;36m7\u001b[0m°\u001b[1;36m20\u001b[0m'\u001b[1;36m48\u001b[0m\"  \n",
       "\n"
      ]
     },
     "metadata": {},
     "output_type": "display_data"
    },
    {
     "data": {
      "text/html": [
       "<pre style=\"white-space:pre;overflow-x:auto;line-height:normal;font-family:Menlo,'DejaVu Sans Mono',consolas,'Courier New',monospace\">\n",
       "</pre>\n"
      ],
      "text/plain": [
       "\n"
      ]
     },
     "metadata": {},
     "output_type": "display_data"
    },
    {
     "data": {
      "text/html": [
       "<pre style=\"white-space:pre;overflow-x:auto;line-height:normal;font-family:Menlo,'DejaVu Sans Mono',consolas,'Courier New',monospace\">Planet Aspects\n",
       "------------------------------------------------------------\n",
       "        Sun ☉ | Moon ☽        | <span style=\"color: #008000; text-decoration-color: #008000\">Sextile   </span> |  <span style=\"color: #008080; text-decoration-color: #008080; font-weight: bold\">6</span>° | Applying\n",
       "        Sun ☉ | Mercury ☿     | <span style=\"color: #c0c0c0; text-decoration-color: #c0c0c0\">Conjunct  </span> |  <span style=\"color: #008080; text-decoration-color: #008080; font-weight: bold\">2</span>° | Separating\n",
       "        Sun ☉ | Venus ♂       | <span style=\"color: #c0c0c0; text-decoration-color: #c0c0c0\">Conjunct  </span> |  <span style=\"color: #008080; text-decoration-color: #008080; font-weight: bold\">2</span>° | Applying\n",
       "        Sun ☉ | Mars ♀        | <span style=\"color: #c0c0c0; text-decoration-color: #c0c0c0\">Conjunct  </span> |  <span style=\"color: #008080; text-decoration-color: #008080; font-weight: bold\">3</span>° | Separating\n",
       "        Sun ☉ | Jupiter ♃     | <span style=\"color: #008000; text-decoration-color: #008000\">Sextile   </span> |  <span style=\"color: #008080; text-decoration-color: #008080; font-weight: bold\">6</span>° | Separating\n",
       "        Sun ☉ | Uranus ♅      | <span style=\"color: #c0c0c0; text-decoration-color: #c0c0c0\">Conjunct  </span> |  <span style=\"color: #008080; text-decoration-color: #008080; font-weight: bold\">6</span>° | Applying\n",
       "        Sun ☉ | Neptune ♆     | <span style=\"color: #c0c0c0; text-decoration-color: #c0c0c0\">Conjunct  </span> |  <span style=\"color: #008080; text-decoration-color: #008080; font-weight: bold\">4</span>° | Applying\n",
       "        Sun ☉ | Asc           | <span style=\"color: #800000; text-decoration-color: #800000\">Square    </span> |  <span style=\"color: #008080; text-decoration-color: #008080; font-weight: bold\">1</span>° | <span style=\"color: #800080; text-decoration-color: #800080; font-style: italic\">None</span>\n",
       "        Sun ☉ | MC            | <span style=\"color: #c0c0c0; text-decoration-color: #c0c0c0\">Conjunct  </span> |  <span style=\"color: #008080; text-decoration-color: #008080; font-weight: bold\">7</span>° | <span style=\"color: #800080; text-decoration-color: #800080; font-style: italic\">None</span>\n",
       "\n",
       "       Moon ☽ | Mercury ☿     | <span style=\"color: #008000; text-decoration-color: #008000\">Sextile   </span> |  <span style=\"color: #008080; text-decoration-color: #008080; font-weight: bold\">8</span>° | Applying\n",
       "       Moon ☽ | Venus ♂       | <span style=\"color: #008000; text-decoration-color: #008000\">Sextile   </span> |  <span style=\"color: #008080; text-decoration-color: #008080; font-weight: bold\">4</span>° | Applying\n",
       "       Moon ☽ | Mars ♀        | <span style=\"color: #008000; text-decoration-color: #008000\">Sextile   </span> |  <span style=\"color: #008080; text-decoration-color: #008080; font-weight: bold\">3</span>° | Applying\n",
       "       Moon ☽ | Jupiter ♃     | <span style=\"color: #c0c0c0; text-decoration-color: #c0c0c0\">Conjunct  </span> |  <span style=\"color: #008080; text-decoration-color: #008080; font-weight: bold\">0</span>° | Applying\n",
       "       Moon ☽ | MC            | <span style=\"color: #008000; text-decoration-color: #008000\">Sextile   </span> |  <span style=\"color: #008080; text-decoration-color: #008080; font-weight: bold\">1</span>° | <span style=\"color: #800080; text-decoration-color: #800080; font-style: italic\">None</span>\n",
       "\n",
       "    Mercury ☿ | Venus ♂       | <span style=\"color: #c0c0c0; text-decoration-color: #c0c0c0\">Conjunct  </span> |  <span style=\"color: #008080; text-decoration-color: #008080; font-weight: bold\">4</span>° | Separating\n",
       "    Mercury ☿ | Mars ♀        | <span style=\"color: #c0c0c0; text-decoration-color: #c0c0c0\">Conjunct  </span> |  <span style=\"color: #008080; text-decoration-color: #008080; font-weight: bold\">5</span>° | Separating\n",
       "    Mercury ☿ | Jupiter ♃     | <span style=\"color: #008000; text-decoration-color: #008000\">Sextile   </span> |  <span style=\"color: #008080; text-decoration-color: #008080; font-weight: bold\">7</span>° | Separating\n",
       "    Mercury ☿ | Uranus ♅      | <span style=\"color: #c0c0c0; text-decoration-color: #c0c0c0\">Conjunct  </span> |  <span style=\"color: #008080; text-decoration-color: #008080; font-weight: bold\">4</span>° | Applying\n",
       "    Mercury ☿ | Neptune ♆     | <span style=\"color: #c0c0c0; text-decoration-color: #c0c0c0\">Conjunct  </span> |  <span style=\"color: #008080; text-decoration-color: #008080; font-weight: bold\">3</span>° | Applying\n",
       "    Mercury ☿ | Asc           | <span style=\"color: #800000; text-decoration-color: #800000\">Square    </span> |  <span style=\"color: #008080; text-decoration-color: #008080; font-weight: bold\">1</span>° | <span style=\"color: #800080; text-decoration-color: #800080; font-style: italic\">None</span>\n",
       "\n",
       "      Venus ♂ | Mars ♀        | <span style=\"color: #c0c0c0; text-decoration-color: #c0c0c0\">Conjunct  </span> |  <span style=\"color: #008080; text-decoration-color: #008080; font-weight: bold\">0</span>° | Separating\n",
       "      Venus ♂ | Jupiter ♃     | <span style=\"color: #008000; text-decoration-color: #008000\">Sextile   </span> |  <span style=\"color: #008080; text-decoration-color: #008080; font-weight: bold\">3</span>° | Separating\n",
       "      Venus ♂ | Neptune ♆     | <span style=\"color: #c0c0c0; text-decoration-color: #c0c0c0\">Conjunct  </span> |  <span style=\"color: #008080; text-decoration-color: #008080; font-weight: bold\">7</span>° | Applying\n",
       "      Venus ♂ | Asc           | <span style=\"color: #800000; text-decoration-color: #800000\">Square    </span> |  <span style=\"color: #008080; text-decoration-color: #008080; font-weight: bold\">3</span>° | <span style=\"color: #800080; text-decoration-color: #800080; font-style: italic\">None</span>\n",
       "      Venus ♂ | MC            | <span style=\"color: #c0c0c0; text-decoration-color: #c0c0c0\">Conjunct  </span> |  <span style=\"color: #008080; text-decoration-color: #008080; font-weight: bold\">4</span>° | <span style=\"color: #800080; text-decoration-color: #800080; font-style: italic\">None</span>\n",
       "\n",
       "       Mars ♀ | Jupiter ♃     | <span style=\"color: #008000; text-decoration-color: #008000\">Sextile   </span> |  <span style=\"color: #008080; text-decoration-color: #008080; font-weight: bold\">3</span>° | Separating\n",
       "       Mars ♀ | Neptune ♆     | <span style=\"color: #c0c0c0; text-decoration-color: #c0c0c0\">Conjunct  </span> |  <span style=\"color: #008080; text-decoration-color: #008080; font-weight: bold\">7</span>° | Applying\n",
       "       Mars ♀ | Asc           | <span style=\"color: #800000; text-decoration-color: #800000\">Square    </span> |  <span style=\"color: #008080; text-decoration-color: #008080; font-weight: bold\">4</span>° | <span style=\"color: #800080; text-decoration-color: #800080; font-style: italic\">None</span>\n",
       "       Mars ♀ | MC            | <span style=\"color: #c0c0c0; text-decoration-color: #c0c0c0\">Conjunct  </span> |  <span style=\"color: #008080; text-decoration-color: #008080; font-weight: bold\">4</span>° | <span style=\"color: #800080; text-decoration-color: #800080; font-style: italic\">None</span>\n",
       "\n",
       "    Jupiter ♃ | MC            | <span style=\"color: #008000; text-decoration-color: #008000\">Sextile   </span> |  <span style=\"color: #008080; text-decoration-color: #008080; font-weight: bold\">1</span>° | <span style=\"color: #800080; text-decoration-color: #800080; font-style: italic\">None</span>\n",
       "\n",
       "     Saturn ♄ | Pluto ♇       | <span style=\"color: #800000; text-decoration-color: #800000\">Square    </span> |  <span style=\"color: #008080; text-decoration-color: #008080; font-weight: bold\">0</span>° | Separating\n",
       "     Saturn ♄ | North Node ☊  | <span style=\"color: #800000; text-decoration-color: #800000\">Square    </span> |  <span style=\"color: #008080; text-decoration-color: #008080; font-weight: bold\">5</span>° | Separating\n",
       "\n",
       "     Uranus ♅ | Neptune ♆     | <span style=\"color: #c0c0c0; text-decoration-color: #c0c0c0\">Conjunct  </span> |  <span style=\"color: #008080; text-decoration-color: #008080; font-weight: bold\">1</span>° | Separating\n",
       "     Uranus ♅ | Pluto ♇       | <span style=\"color: #008000; text-decoration-color: #008000\">Sextile   </span> |  <span style=\"color: #008080; text-decoration-color: #008080; font-weight: bold\">5</span>° | Separating\n",
       "     Uranus ♅ | Asc           | <span style=\"color: #800000; text-decoration-color: #800000\">Square    </span> |  <span style=\"color: #008080; text-decoration-color: #008080; font-weight: bold\">5</span>° | <span style=\"color: #800080; text-decoration-color: #800080; font-style: italic\">None</span>\n",
       "\n",
       "    Neptune ♆ | Pluto ♇       | <span style=\"color: #008000; text-decoration-color: #008000\">Sextile   </span> |  <span style=\"color: #008080; text-decoration-color: #008080; font-weight: bold\">7</span>° | Separating\n",
       "    Neptune ♆ | Asc           | <span style=\"color: #800000; text-decoration-color: #800000\">Square    </span> |  <span style=\"color: #008080; text-decoration-color: #008080; font-weight: bold\">4</span>° | <span style=\"color: #800080; text-decoration-color: #800080; font-style: italic\">None</span>\n",
       "\n",
       "      Pluto ♇ | North Node ☊  | <span style=\"color: #c0c0c0; text-decoration-color: #c0c0c0\">Conjunct  </span> |  <span style=\"color: #008080; text-decoration-color: #008080; font-weight: bold\">5</span>° | Applying\n",
       "\n",
       "\n",
       " South Node ☋ | Saturn ♄      | <span style=\"color: #800000; text-decoration-color: #800000\">Square    </span> |  <span style=\"color: #008080; text-decoration-color: #008080; font-weight: bold\">5</span>° | Separating\n",
       " South Node ☋ | Pluto ♇       | <span style=\"color: #800000; text-decoration-color: #800000\">Opposition</span> |  <span style=\"color: #008080; text-decoration-color: #008080; font-weight: bold\">5</span>° | Separating\n",
       " South Node ☋ | North Node ☊  | <span style=\"color: #800000; text-decoration-color: #800000\">Opposition</span> |  <span style=\"color: #008080; text-decoration-color: #008080; font-weight: bold\">0</span>° | Separating\n",
       "\n",
       "  BM Lilith ⚸ | Saturn ♄      | <span style=\"color: #008000; text-decoration-color: #008000\">Sextile   </span> |  <span style=\"color: #008080; text-decoration-color: #008080; font-weight: bold\">3</span>° | Applying\n",
       "\n",
       "     Chiron ⚷ | Sun ☉         | <span style=\"color: #008000; text-decoration-color: #008000\">Trine     </span> |  <span style=\"color: #008080; text-decoration-color: #008080; font-weight: bold\">7</span>° | Separating\n",
       "     Chiron ⚷ | Moon ☽        | <span style=\"color: #008000; text-decoration-color: #008000\">Sextile   </span> |  <span style=\"color: #008080; text-decoration-color: #008080; font-weight: bold\">1</span>° | Separating\n",
       "     Chiron ⚷ | Venus ♂       | <span style=\"color: #008000; text-decoration-color: #008000\">Trine     </span> |  <span style=\"color: #008080; text-decoration-color: #008080; font-weight: bold\">5</span>° | Separating\n",
       "     Chiron ⚷ | Mars ♀        | <span style=\"color: #008000; text-decoration-color: #008000\">Trine     </span> |  <span style=\"color: #008080; text-decoration-color: #008080; font-weight: bold\">4</span>° | Separating\n",
       "     Chiron ⚷ | Jupiter ♃     | <span style=\"color: #008000; text-decoration-color: #008000\">Sextile   </span> |  <span style=\"color: #008080; text-decoration-color: #008080; font-weight: bold\">2</span>° | Separating\n",
       "     Chiron ⚷ | North Node ☊  | <span style=\"color: #800000; text-decoration-color: #800000\">Square    </span> |  <span style=\"color: #008080; text-decoration-color: #008080; font-weight: bold\">7</span>° | Separating\n",
       "     Chiron ⚷ | MC            | <span style=\"color: #008000; text-decoration-color: #008000\">Trine     </span> |  <span style=\"color: #008080; text-decoration-color: #008080; font-weight: bold\">1</span>° | <span style=\"color: #800080; text-decoration-color: #800080; font-style: italic\">None</span>\n",
       "\n",
       "     Pholus 𝛷 | Moon ☽        | <span style=\"color: #008000; text-decoration-color: #008000\">Sextile   </span> |  <span style=\"color: #008080; text-decoration-color: #008080; font-weight: bold\">6</span>° | Separating\n",
       "     Pholus 𝛷 | Jupiter ♃     | <span style=\"color: #008000; text-decoration-color: #008000\">Sextile   </span> |  <span style=\"color: #008080; text-decoration-color: #008080; font-weight: bold\">6</span>° | Separating\n",
       "     Pholus 𝛷 | Saturn ♄      | <span style=\"color: #800000; text-decoration-color: #800000\">Opposition</span> |  <span style=\"color: #008080; text-decoration-color: #008080; font-weight: bold\">7</span>° | Separating\n",
       "     Pholus 𝛷 | Pluto ♇       | <span style=\"color: #800000; text-decoration-color: #800000\">Square    </span> |  <span style=\"color: #008080; text-decoration-color: #008080; font-weight: bold\">7</span>° | Separating\n",
       "     Pholus 𝛷 | North Node ☊  | <span style=\"color: #800000; text-decoration-color: #800000\">Square    </span> |  <span style=\"color: #008080; text-decoration-color: #008080; font-weight: bold\">2</span>° | Separating\n",
       "     Pholus 𝛷 | MC            | <span style=\"color: #008000; text-decoration-color: #008000\">Trine     </span> |  <span style=\"color: #008080; text-decoration-color: #008080; font-weight: bold\">5</span>° | <span style=\"color: #800080; text-decoration-color: #800080; font-style: italic\">None</span>\n",
       "\n",
       "      Ceres ⚳ | Mercury ☿     | <span style=\"color: #800000; text-decoration-color: #800000\">Square    </span> |  <span style=\"color: #008080; text-decoration-color: #008080; font-weight: bold\">6</span>° | Separating\n",
       "      Ceres ⚳ | Saturn ♄      | <span style=\"color: #008000; text-decoration-color: #008000\">Sextile   </span> |  <span style=\"color: #008080; text-decoration-color: #008080; font-weight: bold\">3</span>° | Applying\n",
       "      Ceres ⚳ | Uranus ♅      | <span style=\"color: #800000; text-decoration-color: #800000\">Square    </span> |  <span style=\"color: #008080; text-decoration-color: #008080; font-weight: bold\">2</span>° | Applying\n",
       "      Ceres ⚳ | Neptune ♆     | <span style=\"color: #800000; text-decoration-color: #800000\">Square    </span> |  <span style=\"color: #008080; text-decoration-color: #008080; font-weight: bold\">4</span>° | Applying\n",
       "      Ceres ⚳ | Asc           | <span style=\"color: #c0c0c0; text-decoration-color: #c0c0c0\">Conjunct  </span> |  <span style=\"color: #008080; text-decoration-color: #008080; font-weight: bold\">7</span>° | <span style=\"color: #800080; text-decoration-color: #800080; font-style: italic\">None</span>\n",
       "\n",
       "     Pallas ⚴ | Moon ☽        | <span style=\"color: #008000; text-decoration-color: #008000\">Trine     </span> |  <span style=\"color: #008080; text-decoration-color: #008080; font-weight: bold\">5</span>° | Applying\n",
       "     Pallas ⚴ | Jupiter ♃     | <span style=\"color: #008000; text-decoration-color: #008000\">Trine     </span> |  <span style=\"color: #008080; text-decoration-color: #008080; font-weight: bold\">5</span>° | Separating\n",
       "     Pallas ⚴ | Saturn ♄      | <span style=\"color: #c0c0c0; text-decoration-color: #c0c0c0\">Conjunct  </span> |  <span style=\"color: #008080; text-decoration-color: #008080; font-weight: bold\">8</span>° | Separating\n",
       "     Pallas ⚴ | North Node ☊  | <span style=\"color: #800000; text-decoration-color: #800000\">Square    </span> |  <span style=\"color: #008080; text-decoration-color: #008080; font-weight: bold\">3</span>° | Separating\n",
       "     Pallas ⚴ | MC            | <span style=\"color: #008000; text-decoration-color: #008000\">Sextile   </span> |  <span style=\"color: #008080; text-decoration-color: #008080; font-weight: bold\">4</span>° | <span style=\"color: #800080; text-decoration-color: #800080; font-style: italic\">None</span>\n",
       "\n",
       "       Juno ⚵ | Saturn ♄      | <span style=\"color: #008000; text-decoration-color: #008000\">Trine     </span> |  <span style=\"color: #008080; text-decoration-color: #008080; font-weight: bold\">0</span>° | Applying\n",
       "       Juno ⚵ | Uranus ♅      | <span style=\"color: #800000; text-decoration-color: #800000\">Square    </span> |  <span style=\"color: #008080; text-decoration-color: #008080; font-weight: bold\">6</span>° | Applying\n",
       "       Juno ⚵ | Neptune ♆     | <span style=\"color: #800000; text-decoration-color: #800000\">Square    </span> |  <span style=\"color: #008080; text-decoration-color: #008080; font-weight: bold\">7</span>° | Applying\n",
       "\n",
       "      Vesta ⚶ | Sun ☉         | <span style=\"color: #008000; text-decoration-color: #008000\">Sextile   </span> |  <span style=\"color: #008080; text-decoration-color: #008080; font-weight: bold\">3</span>° | Applying\n",
       "      Vesta ⚶ | Mercury ☿     | <span style=\"color: #008000; text-decoration-color: #008000\">Sextile   </span> |  <span style=\"color: #008080; text-decoration-color: #008080; font-weight: bold\">1</span>° | Applying\n",
       "      Vesta ⚶ | Venus ♂       | <span style=\"color: #008000; text-decoration-color: #008000\">Sextile   </span> |  <span style=\"color: #008080; text-decoration-color: #008080; font-weight: bold\">5</span>° | Applying\n",
       "      Vesta ⚶ | Mars ♀        | <span style=\"color: #008000; text-decoration-color: #008000\">Sextile   </span> |  <span style=\"color: #008080; text-decoration-color: #008080; font-weight: bold\">6</span>° | Applying\n",
       "      Vesta ⚶ | Uranus ♅      | <span style=\"color: #008000; text-decoration-color: #008000\">Sextile   </span> |  <span style=\"color: #008080; text-decoration-color: #008080; font-weight: bold\">3</span>° | Separating\n",
       "      Vesta ⚶ | Neptune ♆     | <span style=\"color: #008000; text-decoration-color: #008000\">Sextile   </span> |  <span style=\"color: #008080; text-decoration-color: #008080; font-weight: bold\">2</span>° | Separating\n",
       "\n",
       "\n",
       "</pre>\n"
      ],
      "text/plain": [
       "Planet Aspects\n",
       "------------------------------------------------------------\n",
       "        Sun ☉ | Moon ☽        | \u001b[32mSextile   \u001b[0m |  \u001b[1;36m6\u001b[0m° | Applying\n",
       "        Sun ☉ | Mercury ☿     | \u001b[37mConjunct  \u001b[0m |  \u001b[1;36m2\u001b[0m° | Separating\n",
       "        Sun ☉ | Venus ♂       | \u001b[37mConjunct  \u001b[0m |  \u001b[1;36m2\u001b[0m° | Applying\n",
       "        Sun ☉ | Mars ♀        | \u001b[37mConjunct  \u001b[0m |  \u001b[1;36m3\u001b[0m° | Separating\n",
       "        Sun ☉ | Jupiter ♃     | \u001b[32mSextile   \u001b[0m |  \u001b[1;36m6\u001b[0m° | Separating\n",
       "        Sun ☉ | Uranus ♅      | \u001b[37mConjunct  \u001b[0m |  \u001b[1;36m6\u001b[0m° | Applying\n",
       "        Sun ☉ | Neptune ♆     | \u001b[37mConjunct  \u001b[0m |  \u001b[1;36m4\u001b[0m° | Applying\n",
       "        Sun ☉ | Asc           | \u001b[31mSquare    \u001b[0m |  \u001b[1;36m1\u001b[0m° | \u001b[3;35mNone\u001b[0m\n",
       "        Sun ☉ | MC            | \u001b[37mConjunct  \u001b[0m |  \u001b[1;36m7\u001b[0m° | \u001b[3;35mNone\u001b[0m\n",
       "\n",
       "       Moon ☽ | Mercury ☿     | \u001b[32mSextile   \u001b[0m |  \u001b[1;36m8\u001b[0m° | Applying\n",
       "       Moon ☽ | Venus ♂       | \u001b[32mSextile   \u001b[0m |  \u001b[1;36m4\u001b[0m° | Applying\n",
       "       Moon ☽ | Mars ♀        | \u001b[32mSextile   \u001b[0m |  \u001b[1;36m3\u001b[0m° | Applying\n",
       "       Moon ☽ | Jupiter ♃     | \u001b[37mConjunct  \u001b[0m |  \u001b[1;36m0\u001b[0m° | Applying\n",
       "       Moon ☽ | MC            | \u001b[32mSextile   \u001b[0m |  \u001b[1;36m1\u001b[0m° | \u001b[3;35mNone\u001b[0m\n",
       "\n",
       "    Mercury ☿ | Venus ♂       | \u001b[37mConjunct  \u001b[0m |  \u001b[1;36m4\u001b[0m° | Separating\n",
       "    Mercury ☿ | Mars ♀        | \u001b[37mConjunct  \u001b[0m |  \u001b[1;36m5\u001b[0m° | Separating\n",
       "    Mercury ☿ | Jupiter ♃     | \u001b[32mSextile   \u001b[0m |  \u001b[1;36m7\u001b[0m° | Separating\n",
       "    Mercury ☿ | Uranus ♅      | \u001b[37mConjunct  \u001b[0m |  \u001b[1;36m4\u001b[0m° | Applying\n",
       "    Mercury ☿ | Neptune ♆     | \u001b[37mConjunct  \u001b[0m |  \u001b[1;36m3\u001b[0m° | Applying\n",
       "    Mercury ☿ | Asc           | \u001b[31mSquare    \u001b[0m |  \u001b[1;36m1\u001b[0m° | \u001b[3;35mNone\u001b[0m\n",
       "\n",
       "      Venus ♂ | Mars ♀        | \u001b[37mConjunct  \u001b[0m |  \u001b[1;36m0\u001b[0m° | Separating\n",
       "      Venus ♂ | Jupiter ♃     | \u001b[32mSextile   \u001b[0m |  \u001b[1;36m3\u001b[0m° | Separating\n",
       "      Venus ♂ | Neptune ♆     | \u001b[37mConjunct  \u001b[0m |  \u001b[1;36m7\u001b[0m° | Applying\n",
       "      Venus ♂ | Asc           | \u001b[31mSquare    \u001b[0m |  \u001b[1;36m3\u001b[0m° | \u001b[3;35mNone\u001b[0m\n",
       "      Venus ♂ | MC            | \u001b[37mConjunct  \u001b[0m |  \u001b[1;36m4\u001b[0m° | \u001b[3;35mNone\u001b[0m\n",
       "\n",
       "       Mars ♀ | Jupiter ♃     | \u001b[32mSextile   \u001b[0m |  \u001b[1;36m3\u001b[0m° | Separating\n",
       "       Mars ♀ | Neptune ♆     | \u001b[37mConjunct  \u001b[0m |  \u001b[1;36m7\u001b[0m° | Applying\n",
       "       Mars ♀ | Asc           | \u001b[31mSquare    \u001b[0m |  \u001b[1;36m4\u001b[0m° | \u001b[3;35mNone\u001b[0m\n",
       "       Mars ♀ | MC            | \u001b[37mConjunct  \u001b[0m |  \u001b[1;36m4\u001b[0m° | \u001b[3;35mNone\u001b[0m\n",
       "\n",
       "    Jupiter ♃ | MC            | \u001b[32mSextile   \u001b[0m |  \u001b[1;36m1\u001b[0m° | \u001b[3;35mNone\u001b[0m\n",
       "\n",
       "     Saturn ♄ | Pluto ♇       | \u001b[31mSquare    \u001b[0m |  \u001b[1;36m0\u001b[0m° | Separating\n",
       "     Saturn ♄ | North Node ☊  | \u001b[31mSquare    \u001b[0m |  \u001b[1;36m5\u001b[0m° | Separating\n",
       "\n",
       "     Uranus ♅ | Neptune ♆     | \u001b[37mConjunct  \u001b[0m |  \u001b[1;36m1\u001b[0m° | Separating\n",
       "     Uranus ♅ | Pluto ♇       | \u001b[32mSextile   \u001b[0m |  \u001b[1;36m5\u001b[0m° | Separating\n",
       "     Uranus ♅ | Asc           | \u001b[31mSquare    \u001b[0m |  \u001b[1;36m5\u001b[0m° | \u001b[3;35mNone\u001b[0m\n",
       "\n",
       "    Neptune ♆ | Pluto ♇       | \u001b[32mSextile   \u001b[0m |  \u001b[1;36m7\u001b[0m° | Separating\n",
       "    Neptune ♆ | Asc           | \u001b[31mSquare    \u001b[0m |  \u001b[1;36m4\u001b[0m° | \u001b[3;35mNone\u001b[0m\n",
       "\n",
       "      Pluto ♇ | North Node ☊  | \u001b[37mConjunct  \u001b[0m |  \u001b[1;36m5\u001b[0m° | Applying\n",
       "\n",
       "\n",
       " South Node ☋ | Saturn ♄      | \u001b[31mSquare    \u001b[0m |  \u001b[1;36m5\u001b[0m° | Separating\n",
       " South Node ☋ | Pluto ♇       | \u001b[31mOpposition\u001b[0m |  \u001b[1;36m5\u001b[0m° | Separating\n",
       " South Node ☋ | North Node ☊  | \u001b[31mOpposition\u001b[0m |  \u001b[1;36m0\u001b[0m° | Separating\n",
       "\n",
       "  BM Lilith ⚸ | Saturn ♄      | \u001b[32mSextile   \u001b[0m |  \u001b[1;36m3\u001b[0m° | Applying\n",
       "\n",
       "     Chiron ⚷ | Sun ☉         | \u001b[32mTrine     \u001b[0m |  \u001b[1;36m7\u001b[0m° | Separating\n",
       "     Chiron ⚷ | Moon ☽        | \u001b[32mSextile   \u001b[0m |  \u001b[1;36m1\u001b[0m° | Separating\n",
       "     Chiron ⚷ | Venus ♂       | \u001b[32mTrine     \u001b[0m |  \u001b[1;36m5\u001b[0m° | Separating\n",
       "     Chiron ⚷ | Mars ♀        | \u001b[32mTrine     \u001b[0m |  \u001b[1;36m4\u001b[0m° | Separating\n",
       "     Chiron ⚷ | Jupiter ♃     | \u001b[32mSextile   \u001b[0m |  \u001b[1;36m2\u001b[0m° | Separating\n",
       "     Chiron ⚷ | North Node ☊  | \u001b[31mSquare    \u001b[0m |  \u001b[1;36m7\u001b[0m° | Separating\n",
       "     Chiron ⚷ | MC            | \u001b[32mTrine     \u001b[0m |  \u001b[1;36m1\u001b[0m° | \u001b[3;35mNone\u001b[0m\n",
       "\n",
       "     Pholus 𝛷 | Moon ☽        | \u001b[32mSextile   \u001b[0m |  \u001b[1;36m6\u001b[0m° | Separating\n",
       "     Pholus 𝛷 | Jupiter ♃     | \u001b[32mSextile   \u001b[0m |  \u001b[1;36m6\u001b[0m° | Separating\n",
       "     Pholus 𝛷 | Saturn ♄      | \u001b[31mOpposition\u001b[0m |  \u001b[1;36m7\u001b[0m° | Separating\n",
       "     Pholus 𝛷 | Pluto ♇       | \u001b[31mSquare    \u001b[0m |  \u001b[1;36m7\u001b[0m° | Separating\n",
       "     Pholus 𝛷 | North Node ☊  | \u001b[31mSquare    \u001b[0m |  \u001b[1;36m2\u001b[0m° | Separating\n",
       "     Pholus 𝛷 | MC            | \u001b[32mTrine     \u001b[0m |  \u001b[1;36m5\u001b[0m° | \u001b[3;35mNone\u001b[0m\n",
       "\n",
       "      Ceres ⚳ | Mercury ☿     | \u001b[31mSquare    \u001b[0m |  \u001b[1;36m6\u001b[0m° | Separating\n",
       "      Ceres ⚳ | Saturn ♄      | \u001b[32mSextile   \u001b[0m |  \u001b[1;36m3\u001b[0m° | Applying\n",
       "      Ceres ⚳ | Uranus ♅      | \u001b[31mSquare    \u001b[0m |  \u001b[1;36m2\u001b[0m° | Applying\n",
       "      Ceres ⚳ | Neptune ♆     | \u001b[31mSquare    \u001b[0m |  \u001b[1;36m4\u001b[0m° | Applying\n",
       "      Ceres ⚳ | Asc           | \u001b[37mConjunct  \u001b[0m |  \u001b[1;36m7\u001b[0m° | \u001b[3;35mNone\u001b[0m\n",
       "\n",
       "     Pallas ⚴ | Moon ☽        | \u001b[32mTrine     \u001b[0m |  \u001b[1;36m5\u001b[0m° | Applying\n",
       "     Pallas ⚴ | Jupiter ♃     | \u001b[32mTrine     \u001b[0m |  \u001b[1;36m5\u001b[0m° | Separating\n",
       "     Pallas ⚴ | Saturn ♄      | \u001b[37mConjunct  \u001b[0m |  \u001b[1;36m8\u001b[0m° | Separating\n",
       "     Pallas ⚴ | North Node ☊  | \u001b[31mSquare    \u001b[0m |  \u001b[1;36m3\u001b[0m° | Separating\n",
       "     Pallas ⚴ | MC            | \u001b[32mSextile   \u001b[0m |  \u001b[1;36m4\u001b[0m° | \u001b[3;35mNone\u001b[0m\n",
       "\n",
       "       Juno ⚵ | Saturn ♄      | \u001b[32mTrine     \u001b[0m |  \u001b[1;36m0\u001b[0m° | Applying\n",
       "       Juno ⚵ | Uranus ♅      | \u001b[31mSquare    \u001b[0m |  \u001b[1;36m6\u001b[0m° | Applying\n",
       "       Juno ⚵ | Neptune ♆     | \u001b[31mSquare    \u001b[0m |  \u001b[1;36m7\u001b[0m° | Applying\n",
       "\n",
       "      Vesta ⚶ | Sun ☉         | \u001b[32mSextile   \u001b[0m |  \u001b[1;36m3\u001b[0m° | Applying\n",
       "      Vesta ⚶ | Mercury ☿     | \u001b[32mSextile   \u001b[0m |  \u001b[1;36m1\u001b[0m° | Applying\n",
       "      Vesta ⚶ | Venus ♂       | \u001b[32mSextile   \u001b[0m |  \u001b[1;36m5\u001b[0m° | Applying\n",
       "      Vesta ⚶ | Mars ♀        | \u001b[32mSextile   \u001b[0m |  \u001b[1;36m6\u001b[0m° | Applying\n",
       "      Vesta ⚶ | Uranus ♅      | \u001b[32mSextile   \u001b[0m |  \u001b[1;36m3\u001b[0m° | Separating\n",
       "      Vesta ⚶ | Neptune ♆     | \u001b[32mSextile   \u001b[0m |  \u001b[1;36m2\u001b[0m° | Separating\n",
       "\n",
       "\n"
      ]
     },
     "metadata": {},
     "output_type": "display_data"
    }
   ],
   "source": [
    "chart = Chart(\n",
    "    date=people[person][\"birthdate\"], houses=\"Placidus\", loc_name=people[person][\"city_name\"]\n",
    ")\n",
    "print_chart_summary(chart, console, plain=True)"
   ]
  },
  {
   "cell_type": "markdown",
   "metadata": {},
   "source": [
    "# Using Rich Table Output (Fancy!)"
   ]
  },
  {
   "cell_type": "code",
   "execution_count": 6,
   "metadata": {},
   "outputs": [
    {
     "name": "stdout",
     "output_type": "stream",
     "text": [
      "Date: January 6, 1994 at 19:47 Universal Time (Local Date: January 6, 1994 at 11:47 Universal Time)\n"
     ]
    },
    {
     "data": {
      "text/html": [
       "<pre style=\"white-space:pre;overflow-x:auto;line-height:normal;font-family:Menlo,'DejaVu Sans Mono',consolas,'Courier New',monospace\">\n",
       "</pre>\n"
      ],
      "text/plain": [
       "\n"
      ]
     },
     "metadata": {},
     "output_type": "display_data"
    },
    {
     "data": {
      "text/html": [
       "<pre style=\"white-space:pre;overflow-x:auto;line-height:normal;font-family:Menlo,'DejaVu Sans Mono',consolas,'Courier New',monospace\"><span style=\"font-style: italic\">                             Planet Placements                              </span>\n",
       "┏━━━━━━━━━━━━━┳━━━━━━━━━━━┳━━━━━━━━━━━━━┳━━━━━━━━━━━┳━━━━━━━┳━━━━━━━━━━━━━━┓\n",
       "┃<span style=\"font-weight: bold\"> Planet      </span>┃<span style=\"font-weight: bold\"> ID        </span>┃<span style=\"font-weight: bold\"> Sign        </span>┃<span style=\"font-weight: bold\"> Longitude </span>┃<span style=\"font-weight: bold\"> Speed </span>┃<span style=\"font-weight: bold\"> Sign Degrees </span>┃\n",
       "┡━━━━━━━━━━━━━╇━━━━━━━━━━━╇━━━━━━━━━━━━━╇━━━━━━━━━━━╇━━━━━━━╇━━━━━━━━━━━━━━┩\n",
       "│ Sun         │ 0         │ Capricorn   │ 286.27°   │ 1.02  │ 16°16'24\"    │\n",
       "│ Moon        │ 1         │ Scorpio     │ 220.18°   │ 14.11 │ 10°11'53\"    │\n",
       "│ Mercury     │ 2         │ Capricorn   │ 288.07°   │ 1.63  │ 18°4'29\"     │\n",
       "│ Venus       │ 3         │ Capricorn   │ 283.82°   │ 1.26  │ 14°49'19\"    │\n",
       "│ Mars        │ 4         │ Capricorn   │ 283.52°   │ 0.77  │ 14°31'7\"     │\n",
       "│ Jupiter     │ 5         │ Scorpio     │ 220.62°   │ 0.14  │ 11°37'20\"    │\n",
       "│ Saturn      │ 6         │ Aquarius    │ 327.57°   │ 0.1   │ 28°34'26\"    │\n",
       "│ Uranus      │ 7         │ Capricorn   │ 291.92°   │ 0.06  │ 22°55'18\"    │\n",
       "│ Neptune     │ 8         │ Capricorn   │ 290.68°   │ 0.04  │ 21°41'47\"    │\n",
       "│ Pluto       │ 9         │ Scorpio     │ 237.25°   │ 0.03  │ 27°15'3\"     │\n",
       "│ true Node   │ 11        │ Sagittarius │ 242.24°   │ 0.02  │ 2°14'11\"     │\n",
       "│ South Node  │ southnode │ Gemini      │ 62.24°    │ 0.02  │ 2°14'11\"     │\n",
       "│ osc. Apogee │ 13        │ Taurus      │ 30.99°    │ 2.19  │ 1°60'39\"     │\n",
       "│ Chiron      │ 15        │ Virgo       │ 159.1°    │ -0.03 │ 9°6'56\"      │\n",
       "│ Pholus      │ 16        │ Virgo       │ 154.42°   │ -0.04 │ 4°25'18\"     │\n",
       "│ Ceres       │ 17        │ Aries       │ 24.41°    │ 0.15  │ 24°24'26\"    │\n",
       "│ Pallas      │ 18        │ Pisces      │ 335.44°   │ 0.28  │ 5°26'28\"     │\n",
       "│ Juno        │ 19        │ Libra       │ 207.91°   │ 0.21  │ 28°55'50\"    │\n",
       "│ Vesta       │ 20        │ Pisces      │ 349.08°   │ 0.39  │ 19°5'49\"     │\n",
       "└─────────────┴───────────┴─────────────┴───────────┴───────┴──────────────┘\n",
       "</pre>\n"
      ],
      "text/plain": [
       "\u001b[3m                             Planet Placements                              \u001b[0m\n",
       "┏━━━━━━━━━━━━━┳━━━━━━━━━━━┳━━━━━━━━━━━━━┳━━━━━━━━━━━┳━━━━━━━┳━━━━━━━━━━━━━━┓\n",
       "┃\u001b[1m \u001b[0m\u001b[1mPlanet     \u001b[0m\u001b[1m \u001b[0m┃\u001b[1m \u001b[0m\u001b[1mID       \u001b[0m\u001b[1m \u001b[0m┃\u001b[1m \u001b[0m\u001b[1mSign       \u001b[0m\u001b[1m \u001b[0m┃\u001b[1m \u001b[0m\u001b[1mLongitude\u001b[0m\u001b[1m \u001b[0m┃\u001b[1m \u001b[0m\u001b[1mSpeed\u001b[0m\u001b[1m \u001b[0m┃\u001b[1m \u001b[0m\u001b[1mSign Degrees\u001b[0m\u001b[1m \u001b[0m┃\n",
       "┡━━━━━━━━━━━━━╇━━━━━━━━━━━╇━━━━━━━━━━━━━╇━━━━━━━━━━━╇━━━━━━━╇━━━━━━━━━━━━━━┩\n",
       "│ Sun         │ 0         │ Capricorn   │ 286.27°   │ 1.02  │ 16°16'24\"    │\n",
       "│ Moon        │ 1         │ Scorpio     │ 220.18°   │ 14.11 │ 10°11'53\"    │\n",
       "│ Mercury     │ 2         │ Capricorn   │ 288.07°   │ 1.63  │ 18°4'29\"     │\n",
       "│ Venus       │ 3         │ Capricorn   │ 283.82°   │ 1.26  │ 14°49'19\"    │\n",
       "│ Mars        │ 4         │ Capricorn   │ 283.52°   │ 0.77  │ 14°31'7\"     │\n",
       "│ Jupiter     │ 5         │ Scorpio     │ 220.62°   │ 0.14  │ 11°37'20\"    │\n",
       "│ Saturn      │ 6         │ Aquarius    │ 327.57°   │ 0.1   │ 28°34'26\"    │\n",
       "│ Uranus      │ 7         │ Capricorn   │ 291.92°   │ 0.06  │ 22°55'18\"    │\n",
       "│ Neptune     │ 8         │ Capricorn   │ 290.68°   │ 0.04  │ 21°41'47\"    │\n",
       "│ Pluto       │ 9         │ Scorpio     │ 237.25°   │ 0.03  │ 27°15'3\"     │\n",
       "│ true Node   │ 11        │ Sagittarius │ 242.24°   │ 0.02  │ 2°14'11\"     │\n",
       "│ South Node  │ southnode │ Gemini      │ 62.24°    │ 0.02  │ 2°14'11\"     │\n",
       "│ osc. Apogee │ 13        │ Taurus      │ 30.99°    │ 2.19  │ 1°60'39\"     │\n",
       "│ Chiron      │ 15        │ Virgo       │ 159.1°    │ -0.03 │ 9°6'56\"      │\n",
       "│ Pholus      │ 16        │ Virgo       │ 154.42°   │ -0.04 │ 4°25'18\"     │\n",
       "│ Ceres       │ 17        │ Aries       │ 24.41°    │ 0.15  │ 24°24'26\"    │\n",
       "│ Pallas      │ 18        │ Pisces      │ 335.44°   │ 0.28  │ 5°26'28\"     │\n",
       "│ Juno        │ 19        │ Libra       │ 207.91°   │ 0.21  │ 28°55'50\"    │\n",
       "│ Vesta       │ 20        │ Pisces      │ 349.08°   │ 0.39  │ 19°5'49\"     │\n",
       "└─────────────┴───────────┴─────────────┴───────────┴───────┴──────────────┘\n"
      ]
     },
     "metadata": {},
     "output_type": "display_data"
    },
    {
     "data": {
      "text/html": [
       "<pre style=\"white-space:pre;overflow-x:auto;line-height:normal;font-family:Menlo,'DejaVu Sans Mono',consolas,'Courier New',monospace\">\n",
       "</pre>\n"
      ],
      "text/plain": [
       "\n"
      ]
     },
     "metadata": {},
     "output_type": "display_data"
    },
    {
     "data": {
      "text/html": [
       "<pre style=\"white-space:pre;overflow-x:auto;line-height:normal;font-family:Menlo,'DejaVu Sans Mono',consolas,'Courier New',monospace\"><span style=\"font-style: italic\">             House Cusps              </span>\n",
       "┏━━━━━━━┳━━━━━━━━━━━━━┳━━━━━━━━━━━━━━┓\n",
       "┃<span style=\"font-weight: bold\"> House </span>┃<span style=\"font-weight: bold\"> Cusp Sign   </span>┃<span style=\"font-weight: bold\"> Cusp Degrees </span>┃\n",
       "┡━━━━━━━╇━━━━━━━━━━━━━╇━━━━━━━━━━━━━━┩\n",
       "│ 1     │ Aries       │ 17°3'40\"     │\n",
       "│ 2     │ Taurus      │ 23°55'33\"    │\n",
       "│ 3     │ Gemini      │ 18°54'29\"    │\n",
       "│ 4     │ Cancer      │ 10°38'28\"    │\n",
       "│ 5     │ Leo         │ 3°53'17\"     │\n",
       "│ 6     │ Virgo       │ 3°7'13\"      │\n",
       "│ 7     │ Libra       │ 17°3'40\"     │\n",
       "│ 8     │ Scorpio     │ 23°55'33\"    │\n",
       "│ 9     │ Sagittarius │ 18°54'29\"    │\n",
       "│ 10    │ Capricorn   │ 10°38'28\"    │\n",
       "│ 11    │ Aquarius    │ 3°53'17\"     │\n",
       "│ 12    │ Pisces      │ 3°7'13\"      │\n",
       "└───────┴─────────────┴──────────────┘\n",
       "</pre>\n"
      ],
      "text/plain": [
       "\u001b[3m             House Cusps              \u001b[0m\n",
       "┏━━━━━━━┳━━━━━━━━━━━━━┳━━━━━━━━━━━━━━┓\n",
       "┃\u001b[1m \u001b[0m\u001b[1mHouse\u001b[0m\u001b[1m \u001b[0m┃\u001b[1m \u001b[0m\u001b[1mCusp Sign  \u001b[0m\u001b[1m \u001b[0m┃\u001b[1m \u001b[0m\u001b[1mCusp Degrees\u001b[0m\u001b[1m \u001b[0m┃\n",
       "┡━━━━━━━╇━━━━━━━━━━━━━╇━━━━━━━━━━━━━━┩\n",
       "│ 1     │ Aries       │ 17°3'40\"     │\n",
       "│ 2     │ Taurus      │ 23°55'33\"    │\n",
       "│ 3     │ Gemini      │ 18°54'29\"    │\n",
       "│ 4     │ Cancer      │ 10°38'28\"    │\n",
       "│ 5     │ Leo         │ 3°53'17\"     │\n",
       "│ 6     │ Virgo       │ 3°7'13\"      │\n",
       "│ 7     │ Libra       │ 17°3'40\"     │\n",
       "│ 8     │ Scorpio     │ 23°55'33\"    │\n",
       "│ 9     │ Sagittarius │ 18°54'29\"    │\n",
       "│ 10    │ Capricorn   │ 10°38'28\"    │\n",
       "│ 11    │ Aquarius    │ 3°53'17\"     │\n",
       "│ 12    │ Pisces      │ 3°7'13\"      │\n",
       "└───────┴─────────────┴──────────────┘\n"
      ]
     },
     "metadata": {},
     "output_type": "display_data"
    },
    {
     "data": {
      "text/html": [
       "<pre style=\"white-space:pre;overflow-x:auto;line-height:normal;font-family:Menlo,'DejaVu Sans Mono',consolas,'Courier New',monospace\">\n",
       "</pre>\n"
      ],
      "text/plain": [
       "\n"
      ]
     },
     "metadata": {},
     "output_type": "display_data"
    },
    {
     "data": {
      "text/html": [
       "<pre style=\"white-space:pre;overflow-x:auto;line-height:normal;font-family:Menlo,'DejaVu Sans Mono',consolas,'Courier New',monospace\"><span style=\"font-style: italic\">              Chart Angles               </span>\n",
       "┏━━━━━━━━┳━━━━━━┳━━━━━━━━━━━┳━━━━━━━━━━━┓\n",
       "┃<span style=\"font-weight: bold\"> Name   </span>┃<span style=\"font-weight: bold\"> ID   </span>┃<span style=\"font-weight: bold\"> Sign      </span>┃<span style=\"font-weight: bold\"> Degrees   </span>┃\n",
       "┡━━━━━━━━╇━━━━━━╇━━━━━━━━━━━╇━━━━━━━━━━━┩\n",
       "│ ASC    │ None │ Aries     │ 17°3'40\"  │\n",
       "│ DSC    │ None │ Libra     │ 17°3'40\"  │\n",
       "│ MC     │ None │ Capricorn │ 10°38'28\" │\n",
       "│ IC     │ None │ Cancer    │ 10°38'28\" │\n",
       "│ ARMC   │ None │ Capricorn │ 10°29'23\" │\n",
       "│ VERTEX │ None │ Libra     │ 7°20'48\"  │\n",
       "│ EQUASC │ None │ Aries     │ 11°25'34\" │\n",
       "│ COASC1 │ None │ Aries     │ 9°33'13\"  │\n",
       "│ COASC2 │ None │ Aries     │ 25°5'56\"  │\n",
       "│ POLASC │ None │ Libra     │ 9°33'13\"  │\n",
       "└────────┴──────┴───────────┴───────────┘\n",
       "</pre>\n"
      ],
      "text/plain": [
       "\u001b[3m              Chart Angles               \u001b[0m\n",
       "┏━━━━━━━━┳━━━━━━┳━━━━━━━━━━━┳━━━━━━━━━━━┓\n",
       "┃\u001b[1m \u001b[0m\u001b[1mName  \u001b[0m\u001b[1m \u001b[0m┃\u001b[1m \u001b[0m\u001b[1mID  \u001b[0m\u001b[1m \u001b[0m┃\u001b[1m \u001b[0m\u001b[1mSign     \u001b[0m\u001b[1m \u001b[0m┃\u001b[1m \u001b[0m\u001b[1mDegrees  \u001b[0m\u001b[1m \u001b[0m┃\n",
       "┡━━━━━━━━╇━━━━━━╇━━━━━━━━━━━╇━━━━━━━━━━━┩\n",
       "│ ASC    │ None │ Aries     │ 17°3'40\"  │\n",
       "│ DSC    │ None │ Libra     │ 17°3'40\"  │\n",
       "│ MC     │ None │ Capricorn │ 10°38'28\" │\n",
       "│ IC     │ None │ Cancer    │ 10°38'28\" │\n",
       "│ ARMC   │ None │ Capricorn │ 10°29'23\" │\n",
       "│ VERTEX │ None │ Libra     │ 7°20'48\"  │\n",
       "│ EQUASC │ None │ Aries     │ 11°25'34\" │\n",
       "│ COASC1 │ None │ Aries     │ 9°33'13\"  │\n",
       "│ COASC2 │ None │ Aries     │ 25°5'56\"  │\n",
       "│ POLASC │ None │ Libra     │ 9°33'13\"  │\n",
       "└────────┴──────┴───────────┴───────────┘\n"
      ]
     },
     "metadata": {},
     "output_type": "display_data"
    },
    {
     "data": {
      "text/html": [
       "<pre style=\"white-space:pre;overflow-x:auto;line-height:normal;font-family:Menlo,'DejaVu Sans Mono',consolas,'Courier New',monospace\">\n",
       "</pre>\n"
      ],
      "text/plain": [
       "\n"
      ]
     },
     "metadata": {},
     "output_type": "display_data"
    },
    {
     "data": {
      "text/html": [
       "<pre style=\"white-space:pre;overflow-x:auto;line-height:normal;font-family:Menlo,'DejaVu Sans Mono',consolas,'Courier New',monospace\"><span style=\"font-style: italic\">                    Planet Aspects                     </span>\n",
       "┏━━━━━━━━━━━┳━━━━━━━━━━━┳━━━━━━━━━━┳━━━━━┳━━━━━━━━━━━━┓\n",
       "┃<span style=\"font-weight: bold\"> Planet A  </span>┃<span style=\"font-weight: bold\"> Planet B  </span>┃<span style=\"font-weight: bold\"> Aspect   </span>┃<span style=\"font-weight: bold\"> Orb </span>┃<span style=\"font-weight: bold\"> Movement   </span>┃\n",
       "┡━━━━━━━━━━━╇━━━━━━━━━━━╇━━━━━━━━━━╇━━━━━╇━━━━━━━━━━━━┩\n",
       "│ Sun       │ Moon      │ Sextile  │ 6°  │ Applying   │\n",
       "│ Sun       │ Mercury   │ Conjunct │ 2°  │ Separating │\n",
       "│ Sun       │ Venus     │ Conjunct │ 2°  │ Applying   │\n",
       "│ Sun       │ Mars      │ Conjunct │ 3°  │ Separating │\n",
       "│ Sun       │ Jupiter   │ Sextile  │ 6°  │ Separating │\n",
       "│ Sun       │ Uranus    │ Conjunct │ 6°  │ Applying   │\n",
       "│ Sun       │ Neptune   │ Conjunct │ 4°  │ Applying   │\n",
       "│ Moon      │ Sun       │ Sextile  │ 6°  │ Applying   │\n",
       "│ Moon      │ Mercury   │ Sextile  │ 8°  │ Applying   │\n",
       "│ Moon      │ Venus     │ Sextile  │ 4°  │ Applying   │\n",
       "│ Moon      │ Mars      │ Sextile  │ 3°  │ Applying   │\n",
       "│ Moon      │ Jupiter   │ Conjunct │ 0°  │ Applying   │\n",
       "│ Mercury   │ Sun       │ Conjunct │ 2°  │ Separating │\n",
       "│ Mercury   │ Moon      │ Sextile  │ 8°  │ Applying   │\n",
       "│ Mercury   │ Venus     │ Conjunct │ 4°  │ Separating │\n",
       "│ Mercury   │ Mars      │ Conjunct │ 5°  │ Separating │\n",
       "│ Mercury   │ Jupiter   │ Sextile  │ 7°  │ Separating │\n",
       "│ Mercury   │ Uranus    │ Conjunct │ 4°  │ Applying   │\n",
       "│ Mercury   │ Neptune   │ Conjunct │ 3°  │ Applying   │\n",
       "│ Venus     │ Sun       │ Conjunct │ 2°  │ Applying   │\n",
       "│ Venus     │ Moon      │ Sextile  │ 4°  │ Applying   │\n",
       "│ Venus     │ Mercury   │ Conjunct │ 4°  │ Separating │\n",
       "│ Venus     │ Mars      │ Conjunct │ 0°  │ Separating │\n",
       "│ Venus     │ Jupiter   │ Sextile  │ 3°  │ Separating │\n",
       "│ Venus     │ Neptune   │ Conjunct │ 7°  │ Applying   │\n",
       "│ Mars      │ Sun       │ Conjunct │ 3°  │ Separating │\n",
       "│ Mars      │ Moon      │ Sextile  │ 3°  │ Applying   │\n",
       "│ Mars      │ Mercury   │ Conjunct │ 5°  │ Separating │\n",
       "│ Mars      │ Venus     │ Conjunct │ 0°  │ Separating │\n",
       "│ Mars      │ Jupiter   │ Sextile  │ 3°  │ Separating │\n",
       "│ Mars      │ Neptune   │ Conjunct │ 7°  │ Applying   │\n",
       "│ Jupiter   │ Sun       │ Sextile  │ 6°  │ Separating │\n",
       "│ Jupiter   │ Moon      │ Conjunct │ 0°  │ Applying   │\n",
       "│ Jupiter   │ Mercury   │ Sextile  │ 7°  │ Separating │\n",
       "│ Jupiter   │ Venus     │ Sextile  │ 3°  │ Separating │\n",
       "│ Jupiter   │ Mars      │ Sextile  │ 3°  │ Separating │\n",
       "│ Saturn    │ Pluto     │ Square   │ 0°  │ Separating │\n",
       "│ Saturn    │ true Node │ Square   │ 5°  │ Separating │\n",
       "│ Uranus    │ Sun       │ Conjunct │ 6°  │ Applying   │\n",
       "│ Uranus    │ Mercury   │ Conjunct │ 4°  │ Applying   │\n",
       "│ Uranus    │ Neptune   │ Conjunct │ 1°  │ Separating │\n",
       "│ Uranus    │ Pluto     │ Sextile  │ 5°  │ Separating │\n",
       "│ Neptune   │ Sun       │ Conjunct │ 4°  │ Applying   │\n",
       "│ Neptune   │ Mercury   │ Conjunct │ 3°  │ Applying   │\n",
       "│ Neptune   │ Venus     │ Conjunct │ 7°  │ Applying   │\n",
       "│ Neptune   │ Mars      │ Conjunct │ 7°  │ Applying   │\n",
       "│ Neptune   │ Uranus    │ Conjunct │ 1°  │ Separating │\n",
       "│ Neptune   │ Pluto     │ Sextile  │ 7°  │ Separating │\n",
       "│ Pluto     │ Saturn    │ Square   │ 0°  │ Separating │\n",
       "│ Pluto     │ Uranus    │ Sextile  │ 5°  │ Separating │\n",
       "│ Pluto     │ Neptune   │ Sextile  │ 7°  │ Separating │\n",
       "│ Pluto     │ true Node │ Conjunct │ 5°  │ Applying   │\n",
       "│ true Node │ Saturn    │ Square   │ 5°  │ Separating │\n",
       "│ true Node │ Pluto     │ Conjunct │ 5°  │ Applying   │\n",
       "└───────────┴───────────┴──────────┴─────┴────────────┘\n",
       "</pre>\n"
      ],
      "text/plain": [
       "\u001b[3m                    Planet Aspects                     \u001b[0m\n",
       "┏━━━━━━━━━━━┳━━━━━━━━━━━┳━━━━━━━━━━┳━━━━━┳━━━━━━━━━━━━┓\n",
       "┃\u001b[1m \u001b[0m\u001b[1mPlanet A \u001b[0m\u001b[1m \u001b[0m┃\u001b[1m \u001b[0m\u001b[1mPlanet B \u001b[0m\u001b[1m \u001b[0m┃\u001b[1m \u001b[0m\u001b[1mAspect  \u001b[0m\u001b[1m \u001b[0m┃\u001b[1m \u001b[0m\u001b[1mOrb\u001b[0m\u001b[1m \u001b[0m┃\u001b[1m \u001b[0m\u001b[1mMovement  \u001b[0m\u001b[1m \u001b[0m┃\n",
       "┡━━━━━━━━━━━╇━━━━━━━━━━━╇━━━━━━━━━━╇━━━━━╇━━━━━━━━━━━━┩\n",
       "│ Sun       │ Moon      │ Sextile  │ 6°  │ Applying   │\n",
       "│ Sun       │ Mercury   │ Conjunct │ 2°  │ Separating │\n",
       "│ Sun       │ Venus     │ Conjunct │ 2°  │ Applying   │\n",
       "│ Sun       │ Mars      │ Conjunct │ 3°  │ Separating │\n",
       "│ Sun       │ Jupiter   │ Sextile  │ 6°  │ Separating │\n",
       "│ Sun       │ Uranus    │ Conjunct │ 6°  │ Applying   │\n",
       "│ Sun       │ Neptune   │ Conjunct │ 4°  │ Applying   │\n",
       "│ Moon      │ Sun       │ Sextile  │ 6°  │ Applying   │\n",
       "│ Moon      │ Mercury   │ Sextile  │ 8°  │ Applying   │\n",
       "│ Moon      │ Venus     │ Sextile  │ 4°  │ Applying   │\n",
       "│ Moon      │ Mars      │ Sextile  │ 3°  │ Applying   │\n",
       "│ Moon      │ Jupiter   │ Conjunct │ 0°  │ Applying   │\n",
       "│ Mercury   │ Sun       │ Conjunct │ 2°  │ Separating │\n",
       "│ Mercury   │ Moon      │ Sextile  │ 8°  │ Applying   │\n",
       "│ Mercury   │ Venus     │ Conjunct │ 4°  │ Separating │\n",
       "│ Mercury   │ Mars      │ Conjunct │ 5°  │ Separating │\n",
       "│ Mercury   │ Jupiter   │ Sextile  │ 7°  │ Separating │\n",
       "│ Mercury   │ Uranus    │ Conjunct │ 4°  │ Applying   │\n",
       "│ Mercury   │ Neptune   │ Conjunct │ 3°  │ Applying   │\n",
       "│ Venus     │ Sun       │ Conjunct │ 2°  │ Applying   │\n",
       "│ Venus     │ Moon      │ Sextile  │ 4°  │ Applying   │\n",
       "│ Venus     │ Mercury   │ Conjunct │ 4°  │ Separating │\n",
       "│ Venus     │ Mars      │ Conjunct │ 0°  │ Separating │\n",
       "│ Venus     │ Jupiter   │ Sextile  │ 3°  │ Separating │\n",
       "│ Venus     │ Neptune   │ Conjunct │ 7°  │ Applying   │\n",
       "│ Mars      │ Sun       │ Conjunct │ 3°  │ Separating │\n",
       "│ Mars      │ Moon      │ Sextile  │ 3°  │ Applying   │\n",
       "│ Mars      │ Mercury   │ Conjunct │ 5°  │ Separating │\n",
       "│ Mars      │ Venus     │ Conjunct │ 0°  │ Separating │\n",
       "│ Mars      │ Jupiter   │ Sextile  │ 3°  │ Separating │\n",
       "│ Mars      │ Neptune   │ Conjunct │ 7°  │ Applying   │\n",
       "│ Jupiter   │ Sun       │ Sextile  │ 6°  │ Separating │\n",
       "│ Jupiter   │ Moon      │ Conjunct │ 0°  │ Applying   │\n",
       "│ Jupiter   │ Mercury   │ Sextile  │ 7°  │ Separating │\n",
       "│ Jupiter   │ Venus     │ Sextile  │ 3°  │ Separating │\n",
       "│ Jupiter   │ Mars      │ Sextile  │ 3°  │ Separating │\n",
       "│ Saturn    │ Pluto     │ Square   │ 0°  │ Separating │\n",
       "│ Saturn    │ true Node │ Square   │ 5°  │ Separating │\n",
       "│ Uranus    │ Sun       │ Conjunct │ 6°  │ Applying   │\n",
       "│ Uranus    │ Mercury   │ Conjunct │ 4°  │ Applying   │\n",
       "│ Uranus    │ Neptune   │ Conjunct │ 1°  │ Separating │\n",
       "│ Uranus    │ Pluto     │ Sextile  │ 5°  │ Separating │\n",
       "│ Neptune   │ Sun       │ Conjunct │ 4°  │ Applying   │\n",
       "│ Neptune   │ Mercury   │ Conjunct │ 3°  │ Applying   │\n",
       "│ Neptune   │ Venus     │ Conjunct │ 7°  │ Applying   │\n",
       "│ Neptune   │ Mars      │ Conjunct │ 7°  │ Applying   │\n",
       "│ Neptune   │ Uranus    │ Conjunct │ 1°  │ Separating │\n",
       "│ Neptune   │ Pluto     │ Sextile  │ 7°  │ Separating │\n",
       "│ Pluto     │ Saturn    │ Square   │ 0°  │ Separating │\n",
       "│ Pluto     │ Uranus    │ Sextile  │ 5°  │ Separating │\n",
       "│ Pluto     │ Neptune   │ Sextile  │ 7°  │ Separating │\n",
       "│ Pluto     │ true Node │ Conjunct │ 5°  │ Applying   │\n",
       "│ true Node │ Saturn    │ Square   │ 5°  │ Separating │\n",
       "│ true Node │ Pluto     │ Conjunct │ 5°  │ Applying   │\n",
       "└───────────┴───────────┴──────────┴─────┴────────────┘\n"
      ]
     },
     "metadata": {},
     "output_type": "display_data"
    }
   ],
   "source": [
    "print_chart_summary(chart, console, plain=False)"
   ]
  },
  {
   "cell_type": "markdown",
   "metadata": {},
   "source": []
  }
 ],
 "metadata": {
  "kernelspec": {
   "display_name": "starlight-zdc67HKC-py3.11",
   "language": "python",
   "name": "python3"
  },
  "language_info": {
   "codemirror_mode": {
    "name": "ipython",
    "version": 3
   },
   "file_extension": ".py",
   "mimetype": "text/x-python",
   "name": "python",
   "nbconvert_exporter": "python",
   "pygments_lexer": "ipython3",
   "version": "3.11.4"
  }
 },
 "nbformat": 4,
 "nbformat_minor": 2
}